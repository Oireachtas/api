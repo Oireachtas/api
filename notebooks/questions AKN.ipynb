{
 "cells": [
  {
   "cell_type": "code",
   "execution_count": 1,
   "metadata": {
    "collapsed": false
   },
   "outputs": [],
   "source": [
    "from lxml import etree\n",
    "from copy import deepcopy"
   ]
  },
  {
   "cell_type": "code",
   "execution_count": 2,
   "metadata": {
    "collapsed": false
   },
   "outputs": [],
   "source": [
    "AKN = {\"akn\": \"http://docs.oasis-open.org/legaldocml/ns/akn/3.0/CSD13\"}\n",
    "xml = \"../data/AK-dail-2015-11-12-v2.xml\"\n",
    "baseURI = \"http://oireachtas.ie\"\n",
    "nsmap = {None: AKN['akn'],\n",
    "         'xsi':\"http://www.w3.org/2001/XMLSchema-instance\"}"
   ]
  },
  {
   "cell_type": "code",
   "execution_count": 21,
   "metadata": {
    "collapsed": false
   },
   "outputs": [],
   "source": [
    "root = etree.parse(xml).getroot()"
   ]
  },
  {
   "cell_type": "code",
   "execution_count": 22,
   "metadata": {
    "collapsed": false
   },
   "outputs": [],
   "source": [
    "for p in root.xpath('.//akn:question/akn:p[contains(., \"Aire\") and not(contains(., \"D\\'Fhiafraigh\"))]', namespaces=AKN):\n",
    "    p.text = p.text.strip() + \". D'Fhiafraigh \""
   ]
  },
  {
   "cell_type": "markdown",
   "metadata": {},
   "source": [
    "## Questions in Akoma Ntoso\n",
    "\n",
    "Questions are represented as a subset of the Akoma Ntoso file for an the day's debate. The debate body consists of the parent debateSection for the question (along with any other questions that have been taken together)."
   ]
  },
  {
   "cell_type": "code",
   "execution_count": 13,
   "metadata": {
    "collapsed": false
   },
   "outputs": [],
   "source": [
    "# Using deepcopy to create copy because etree objects are mutable.\n",
    "pq_root = deepcopy(root)"
   ]
  },
  {
   "cell_type": "code",
   "execution_count": 43,
   "metadata": {
    "collapsed": false
   },
   "outputs": [],
   "source": [
    "pqs = root.xpath(\".//akn:debateSection[@name='question'][./akn:question]\", namespaces=AKN)\n",
    "for pq in pqs[2:3]:\n",
    "    pq_eId = pq.attrib[\"eId\"]\n",
    "    # Using deepcopy to create copy because etree objects are mutable.\n",
    "    pq_root = deepcopy(root)\n",
    "    for this in pq_root.xpath(\".//akn:FRBRthis\", namespaces=AKN):\n",
    "        this.attrib['value'] = this.attrib['value'].replace(\"/main\", \"/\"+pq_eId)\n",
    "    preface = pq_root.xpath(\".//akn:preface\", namespaces=AKN)\n",
    "    meta = pq_root.find(\".//{*}meta\")\n",
    "    meta.remove(meta.find(\"./{*}analysis\"))\n",
    "    pq_root.find(\"./{*}debate\").remove(pq_root.find(\".//{*}debateBody\"))\n",
    "    dbody = etree.SubElement(pq_root.find(\"./{*}debate\"), \"debateBody\")\n",
    "    dbody.append(pq)\n",
    "    refs = set(ref[1:] for \n",
    "           ref in pq_root.xpath('''.//akn:meta//akn:FRBRdate/@name|\n",
    "                                   .//akn:meta/*/@source|\n",
    "                                   .//akn:debateSection/*/@as|\n",
    "                                   .//akn:debateSection/*/@by|\n",
    "                                   .//akn:debateSection/*/@to''', \n",
    "                                namespaces=AKN))\n",
    "    for tlc in pq_root.xpath(\".//akn:references\", namespaces=AKN)[0].getchildren():\n",
    "        if tlc.attrib['eId'] not in refs:\n",
    "            tlc.getparent().remove(tlc)\n",
    "    with open(xml.replace(\"xml\", pq_eId+\".xml\"), \"wb\") as f:\n",
    "        f.write(etree.tostring(pq_root, \n",
    "                         pretty_print=True, \n",
    "                         xml_declaration=True,\n",
    "                        encoding=\"UTF-8\"))"
   ]
  },
  {
   "cell_type": "code",
   "execution_count": 46,
   "metadata": {
    "collapsed": false
   },
   "outputs": [],
   "source": [
    "\n"
   ]
  }
 ],
 "metadata": {
  "kernelspec": {
   "display_name": "Python 3",
   "language": "python",
   "name": "python3"
  },
  "language_info": {
   "codemirror_mode": {
    "name": "ipython",
    "version": 3
   },
   "file_extension": ".py",
   "mimetype": "text/x-python",
   "name": "python",
   "nbconvert_exporter": "python",
   "pygments_lexer": "ipython3",
   "version": "3.5.1"
  }
 },
 "nbformat": 4,
 "nbformat_minor": 0
}
