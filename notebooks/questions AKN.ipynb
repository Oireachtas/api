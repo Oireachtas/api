{
 "cells": [
  {
   "cell_type": "code",
   "execution_count": 1,
   "metadata": {
    "collapsed": false
   },
   "outputs": [],
   "source": [
    "from lxml import etree\n",
    "from copy import deepcopy"
   ]
  },
  {
   "cell_type": "code",
   "execution_count": 2,
   "metadata": {
    "collapsed": false
   },
   "outputs": [],
   "source": [
    "AKN = {\"akn\": \"http://docs.oasis-open.org/legaldocml/ns/akn/3.0/CSD13\"}\n",
    "xml = \"../data/AK-dail-2015-11-12-v2.xml\"\n",
    "baseURI = \"http://oireachtas.ie\"\n",
    "nsmap = {None: AKN['akn'],\n",
    "         'xsi':\"http://www.w3.org/2001/XMLSchema-instance\"}"
   ]
  },
  {
   "cell_type": "code",
   "execution_count": 3,
   "metadata": {
    "collapsed": false
   },
   "outputs": [],
   "source": [
    "root = etree.parse(xml).getroot()"
   ]
  },
  {
   "cell_type": "markdown",
   "metadata": {},
   "source": [
    "## Questions in Akoma Ntoso\n",
    "\n",
    "Questions are represented as a subset of the Akoma Ntoso file for an the day's debate. The debate body consists of the parent debateSection for the question (along with any other questions that have been taken together)."
   ]
  },
  {
   "cell_type": "code",
   "execution_count": 4,
   "metadata": {
    "collapsed": false
   },
   "outputs": [],
   "source": [
    "# Using deepcopy to create copy because etree objects are mutable.\n",
    "pq_root = deepcopy(root)"
   ]
  },
  {
   "cell_type": "code",
   "execution_count": 5,
   "metadata": {
    "collapsed": false
   },
   "outputs": [],
   "source": [
    "for p in root.xpath('.//akn:question/akn:p[contains(., \"Aire\") and not(contains(., \"D\\'Fhiafraigh\"))]', namespaces=AKN):\n",
    "    p.text = p.text.strip() + \". D'Fhiafraigh \""
   ]
  },
  {
   "cell_type": "code",
   "execution_count": 6,
   "metadata": {
    "collapsed": false
   },
   "outputs": [
    {
     "name": "stdout",
     "output_type": "stream",
     "text": [
      "<debateSection xmlns=\"http://docs.oasis-open.org/legaldocml/ns/akn/3.0/CSD13\" xmlns:xsi=\"http://www.w3.org/2001/XMLSchema-instance\" name=\"question\" eId=\"dbsect_6\">\n",
      "                    <heading>National Monuments</heading>\n",
      "                    <question by=\"#MaureenOSullivan\" to=\"#Minister_for_Arts,_Heritage_and_the_Gaeltacht\" eId=\"pq_3\">\n",
      "                        <p eId=\"para_23\">3<b>Deputy Maureen O&#8217;Sullivan</b> asked the <b>Minister for Arts, Heritage and the Gaeltacht</b> if she will exercise the power conferred on her under the national monument certification process to undertake the preservation of 10 Moore Street in Dublin 1, identified by the National Museum as the point of entry into the terrace by the Irish garrison from the General Post Office, the location of the first council of war after the evacuation of the General Post Office, and where five signatories spent their last night before their surrender and execution, and those other buildings on the terrace identified in both the Frank Myles and Shaffrey reports. [39630/15]</p>\n",
      "                    </question>\n",
      "                    <speech by=\"#MaureenOSullivan\" eId=\"spk_14\">\n",
      "                        <from>Deputy Maureen O&#8217;Sullivan</from>\n",
      "                        <p eId=\"para_24\">I wish to ask the Minister about her powers under the national monuments certification process and if she will consider the preservation of No. 10 Moore Street, which has been identified as being of particular historical significance, as well as the other buildings identified in the Myles and Shaffrey reports.</p>\n",
      "                    </speech>\n",
      "                    <speech by=\"#HeatherHumphreys\" eId=\"spk_15\" as=\"#Minister_for_Arts,_Heritage_and_the_Gaeltacht\">\n",
      "                        <from>Deputy Heather Humphreys</from>\n",
      "                        <p eId=\"para_25\">My predecessor, the Minister for the Environment, Heritage and Local Government, placed a preservation order under the National Monuments Acts on Nos. 14-17 Moore Street on the premise that No. 16 was the final headquarters of the 1916 Rising and the location of the last council of war by the 1916 leaders when the decision to surrender was taken.  Nos. 14, 15 and 17 Moore Street were included in the preservation order to enhance and preserve the amenity and setting of No. 16.  Collectively, the four buildings represent the most significant, original, complete, discrete and continuous section of substantially intact pre-1916 buildings on the street, with most of the remaining buildings dating from after 1916.</p>\n",
      "                        <p eId=\"para_26\">While No. 10 Moore Street was the first building broken into by the insurgents, the building is now separated from the national monument by new buildings since built on the sites of Nos. 11, 12 and 13 and is, therefore, isolated from its context.  Moreover, the facade of No. 10 has undergone significant interventions in the meantime which have compromised the architectural and historical integrity of the structure.</p>\n",
      "                        <p eId=\"para_27\">Outside of Nos. 14-17 Moore Street, the remaining parts of the terrace fail to meet the criteria of a national monument under the National Monuments Acts.  Following my announcement earlier this week of the purchase of Nos. 14-17 Moore Street by the State and of the conservation and restoration now under way, I am satisfied that coupled with the new visitor centre being developed in the GPO, the Moore Street commemorative centre will be a fitting and lasting tribute to the 1916 Easter Rising.</p>\n",
      "                    </speech>\n",
      "                    <speech by=\"#MaureenOSullivan\" eId=\"spk_16\">\n",
      "                        <from>Deputy Maureen O&#8217;Sullivan</from>\n",
      "                        <p eId=\"para_28\">I thank the Minister for her reply.  I do not know if the Minister did a tour with the relatives group from the GPO all the way around to the point of the surrender.  Each relative tells the story of their particular relative, whether it was Thomas MacDonagh, Joseph Plunkett, The O'Rahilly or James Connolly.  It is an area that is steeped in history.  Is there a concern that because of the lack of an independent survey and an assessment by suitably qualified persons, we could end up losing many other buildings of historic significance, not just No. 10 but O'Brien's mineral water building, the White House, Cogans, Hanlons and so on?  The Minister must be aware of the passion of the relatives and their supporters who have a different vision for the restoration of the area.  What do we want there?  While a national monument at Nos. 14-17 Moore Street is welcome, we have to look at Nos. 14-17 Moore Street in the context of the wider area.  I emphasise the need to be perfectly sure we are preserving the area that should be preserved because we will not get another chance.</p>\n",
      "                    </speech>\n",
      "                    <speech by=\"#HeatherHumphreys\" eId=\"spk_17\" as=\"#Minister_for_Arts,_Heritage_and_the_Gaeltacht\">\n",
      "                        <from>Deputy Heather Humphreys</from>\n",
      "                        <p eId=\"para_29\">I am satisfied we are preserving what is the national monument at Nos. 14-17 Moore Street.  As the Deputy is aware, work has started on that site and it will be a lasting tribute to the memory of the rebels in the 1916 Rising.  On the issue of the relatives, I am aware how passionate they are about this.  We have been working with the relatives and have had numerous meetings with them.  I have visited the site and have been around all the areas.  I have visited Nos. 14, 15, 16 and 17 Moore Street and it is obvious they are substantially intact as per pre-1916 buildings.  It is clear that many of the other buildings have been knocked down and rebuilt which is the case with those on either side.  In regard to No. 10, independent reports were prepared for my Department by Shaffrey Associates architects and Frank Myles archaeologists in February 2012 as part of the examination of the proposed restoration project under the National Monuments Acts.  These are eminent people in the archaeological, architectural and historical fields and my Department is satisfied with the quality of their research.</p>\n",
      "                    </speech>\n",
      "                    <speech by=\"#SeanBarrett\" as=\"#Ceann_Comhairle\" eId=\"spk_18\">\n",
      "                        <from>An Ceann Comhairle</from>\n",
      "                        <p eId=\"para_30\">I thank the Minister.</p>\n",
      "                    </speech>\n",
      "                    <speech by=\"#HeatherHumphreys\" eId=\"spk_19\" as=\"#Minister_for_Arts,_Heritage_and_the_Gaeltacht\">\n",
      "                        <from>Deputy Heather Humphreys</from>\n",
      "                        <p eId=\"para_31\">Their report included an inspection, assessment and fabric investigations of an area incorporating the block from Moore Street, O'Rahilly Parade, Moore Lane and Henry Place and some of the areas south of Henry Place extending back towards Henry Street.</p>\n",
      "                    </speech>\n",
      "                    <speech by=\"#MaureenOSullivan\" eId=\"spk_20\">\n",
      "                        <from>Deputy Maureen O&#8217;Sullivan</from>\n",
      "                        <p eId=\"para_32\">I acknowledge the group of supporters who are there every Saturday gathering thousands of petitions to save the whole area and the whole terrace.  The Taoiseach referred to the laneways around there as the laneways of history.  They are in danger of also being destroyed under this plan.  One has to question the practicality and suitability of the current plan which is for a massive shopping centre which will dominate the area and is totally unsuitable alongside Nos. 14-17 Moore Street as the national monument.  It will also threaten the street trading tradition that has been going on there for centuries.  I ask the Minister to use her powers under the National Monuments Acts to save those laneways and remove them from the planning application in the way that Nos. 14-17 Moore Street were removed.  We are missing an opportunity to develop the area in an innovative way that will preserve and respect its historical and cultural significance.  Do we need another shopping centre there?  Clerys has closed and Boyers is about to close.  Is our vision for that street another shopping centre?</p>\n",
      "                    </speech>\n",
      "                    <speech by=\"#HeatherHumphreys\" eId=\"spk_21\" as=\"#Minister_for_Arts,_Heritage_and_the_Gaeltacht\">\n",
      "                        <from>Deputy Heather Humphreys</from>\n",
      "                        <p eId=\"para_33\">The decision to add structures to the record of protected structures is a matter for the local authority, in this case Dublin City Council.  My responsibility is for Nos. 14-17 Moore Street, the national monument.  We have been speaking to the traders.  I have been down there and have met them and consulted them.  They are very happy with the proposed development for Moore Street in terms of Nos. 14-17 and they are onside.  They want to ensure they can continue to trade during this work.  To be fair to the traders, when the work on Nos. 14-17 is completed as a new centre, it will allow people doing the tour in the GPO - 300,000 visitors are expected - to go through the route to the national monument which will be the 1916 Easter Rising centre.  The development will upgrade the street.  Having been down there two days it certainly needs a facelift.  The development of Nos. 14-17 Moore Street would be a major boost for that area.</p>\n",
      "                    </speech>\n",
      "                </debateSection>\n",
      "                \n"
     ]
    }
   ],
   "source": [
    "pqs = root.xpath(\".//akn:debateSection[@name='question'][./akn:question]\", namespaces=AKN)\n",
    "for pq in pqs[2:3]:\n",
    "    print(etree.tostring(pq).decode(\"utf-8\"))"
   ]
  },
  {
   "cell_type": "code",
   "execution_count": 10,
   "metadata": {
    "collapsed": false
   },
   "outputs": [
    {
     "name": "stdout",
     "output_type": "stream",
     "text": [
      "['1', 'Deputy Seán Ó Fearghaíl', ' asked the ', 'Minister for Arts, Heritage and the Gaeltacht', ' the funding being provided for the Heritage Council in 2016; and if she will make a statement on the matter. [39716/15]']\n",
      "[\"2. D'Fhiafraigh \", 'Deputy Pearse Doherty', ' den ', 'an Aire Ealaíon, Oidhreachta agus Gaeltachta', ' an dtabharfaidh sí soiléiriú maidir leis na céimeanna atá á nglacadh ag an Roinn chun próiseas nua tairisceana a chur ar bun maidir leis an aersheirbhís go hÁrainn; cén rannpháirtíocht a bheidh ag pobal an oileáin sa phróiseas; agus an bhfuil sí ábalta a dheimhniú gur seirbhís eitleáin sciatháin dhobhogtha amach as Aerfort Réigiúnach Chonamara a bheidh á lorg. [39632/15]']\n",
      "['3', 'Deputy Maureen O’Sullivan', ' asked the ', 'Minister for Arts, Heritage and the Gaeltacht', ' if she will exercise the power conferred on her under the national monument certification process to undertake the preservation of 10 Moore Street in Dublin 1, identified by the National Museum as the point of entry into the terrace by the Irish garrison from the General Post Office, the location of the first council of war after the evacuation of the General Post Office, and where five signatories spent their last night before their surrender and execution, and those other buildings on the terrace identified in both the Frank Myles and Shaffrey reports. [39630/15]']\n",
      "[\"4. D'Fhiafraigh \", 'Deputy Michael P. Kitt', ' den ', 'an Aire Ealaíon, Oidhreachta agus Gaeltachta', ' céard atá beartaithe aici mar gheall ar aersheirbhís go dtí Oileáin Árann; an bhfuil sí sásta conradh nua aersheirbhíse a thosú; agus an ndéanfaidh sí ráiteas ina thaobh. [39717/15]']\n",
      "['5', 'Deputy Maureen O’Sullivan', ' asked the ', 'Minister for Arts, Heritage and the Gaeltacht', ' the person who costed and valued the sale of the NAMA-owned properties on the Moore Street battle site in Dublin 1; if there was a survey with a report available; if there will be a tendering process for contractors involved in the restoration; and when a timeframe will be drawn up for the works.  [39631/15]']\n",
      "['6', 'Deputy Michelle Mulherin', ' asked the ', 'Minister for Arts, Heritage and the Gaeltacht', ' the status of the consultation process for Culture 2025; and if she will make a statement on the matter.  [39548/15]']\n",
      "['7', 'Deputy Catherine Byrne', ' asked the ', 'Minister for Arts, Heritage and the Gaeltacht', ' the status of the commemorative projects at Richmond Barracks and Kilmainham Gaol in Dublin 8, which are being carried out as part of the Ireland 2016 centenary programme; and if she will make a statement on the matter.  [39496/15]']\n",
      "[\"8. D'Fhiafraigh \", 'Deputy Pearse Doherty', ' den ', 'an Aire Ealaíon, Oidhreachta agus Gaeltachta', ' an dtabharfaidh sí soiléiriú maidir leis an maoiniú a chuirfear ar fáil leis an obair riachtanach fheabhsúcháin a dhéanamh ar ché Inis Oírr; cén buiséad as a dtiocfaidh sé; cén uair a chuirfear ar fáil é; agus cathain, meastar, a bheidh an obair críochnaithe. [39530/15]']\n",
      "[\"9. D'Fhiafraigh \", 'Deputy Seán Kyne', ' den ', 'an Aire Ealaíon, Oidhreachta agus Gaeltachta', ' an dul chun cinn atá déanta maidir le cruthú pleananna teanga le haghaidh ceantair Ghaeltachta; agus líon na pleananna atá forbartha agus curtha i ngníomh. [39555/15]']\n",
      "['11', 'Deputy Seán Ó Fearghaíl', ' asked the ', 'Minister for Arts, Heritage and the Gaeltacht', ' her response to the proposed deer cull in Killarney National Park in County Kerry; and if she will make a statement on the matter. [39503/15]']\n"
     ]
    }
   ],
   "source": [
    "for pq in pqs:\n",
    "    print(pq.xpath(\"./akn:question/akn:p//text()\", namespaces=AKN))"
   ]
  },
  {
   "cell_type": "code",
   "execution_count": 58,
   "metadata": {
    "collapsed": false
   },
   "outputs": [],
   "source": [
    "frbr = root.xpath(\".//akn:identification\", namespaces=AKN)\n",
    "preface = root.xpath(\".//akn:preface\", namespaces=AKN)"
   ]
  },
  {
   "cell_type": "code",
   "execution_count": 89,
   "metadata": {
    "collapsed": false
   },
   "outputs": [],
   "source": [
    "\n",
    "meta = root.find(\".//{*}meta\")\n",
    "meta.remove(meta.find(\"./{*}analysis\"))\n",
    "meta.remove(meta.find(\"./{*}references\"))\n",
    "root.find(\"./{*}debate\").remove(root.find(\".//{*}debateBody\"))\n",
    "dbody = etree.SubElement(root.find(\"./{*}debate\"), \"debateBody\")\n",
    "dbody.append(pqs[0])"
   ]
  },
  {
   "cell_type": "code",
   "execution_count": null,
   "metadata": {
    "collapsed": true
   },
   "outputs": [],
   "source": [
    "refs = set(r.)"
   ]
  },
  {
   "cell_type": "code",
   "execution_count": 11,
   "metadata": {
    "collapsed": false,
    "scrolled": true
   },
   "outputs": [
    {
     "name": "stdout",
     "output_type": "stream",
     "text": [
      "<akomaNtoso xmlns=\"http://docs.oasis-open.org/legaldocml/ns/akn/3.0/CSD13\" xmlns:xsi=\"http://www.w3.org/2001/XMLSchema-instance\" xsi:schemaLocation=\"http://docs.oasis-open.org/legaldocml/ns/akn/3.0/CSD13 ./akomantoso30.xsd \">\n",
      "    </akomaNtoso>\n"
     ]
    }
   ],
   "source": [
    "print(etree.tostring(r).decode(\"utf-8\"))"
   ]
  },
  {
   "cell_type": "code",
   "execution_count": 71,
   "metadata": {
    "collapsed": false
   },
   "outputs": [],
   "source": [
    "def new_akn_root():\n",
    "    schema_loc = \"http://docs.oasis-open.org/legaldocml/ns/akn/3.0/CSD13 ./akomantoso30.xsd \"\n",
    "    AN = etree.Element('{' + AKN['akn'] + '}akomaNtoso',           \n",
    "            nsmap=nsmap,\n",
    "            attrib= {\"{\" + AKN['akn'] + \"}schemaLocation\": schema_loc})\n",
    "    return AN"
   ]
  },
  {
   "cell_type": "code",
   "execution_count": 86,
   "metadata": {
    "collapsed": false
   },
   "outputs": [
    {
     "data": {
      "text/plain": [
       "<Element {http://docs.oasis-open.org/legaldocml/ns/akn/3.0/CSD13}debateSection at 0x7fb04518ccc8>"
      ]
     },
     "execution_count": 86,
     "metadata": {},
     "output_type": "execute_result"
    }
   ],
   "source": [
    "pqs[1]"
   ]
  },
  {
   "cell_type": "code",
   "execution_count": 73,
   "metadata": {
    "collapsed": false
   },
   "outputs": [
    {
     "name": "stdout",
     "output_type": "stream",
     "text": [
      "<akomaNtoso xmlns:xsi=\"http://www.w3.org/2001/XMLSchema-instance\" xmlns=\"http://docs.oasis-open.org/legaldocml/ns/akn/3.0/CSD13\" xmlns:ns0=\"http://docs.oasis-open.org/legaldocml/ns/akn/3.0/CSD13\" ns0:schemaLocation=\"http://docs.oasis-open.org/legaldocml/ns/akn/3.0/CSD13 ./akomantoso30.xsd \"><preface>\n",
      "            <block name=\"title_ga\">\n",
      "                <docTitle>D&#205;OSP&#211;IREACHTA&#205; PARLAIMINTE</docTitle>\n",
      "            </block>\n",
      "            <block name=\"title_en\">\n",
      "                <docTitle>PARLIAMENTARY DEBATES</docTitle>\n",
      "            </block>\n",
      "            <block name=\"proponent_ga\">\n",
      "                <docProponent>D&#193;IL &#201;IREANN</docProponent>\n",
      "            </block>\n",
      "            <block name=\"status_ga\">\n",
      "                <docStatus>TUAIRISC OIFIGI&#218;IL</docStatus>\n",
      "            </block>\n",
      "            <block name=\"status_en\">\n",
      "                <docStatus>(OFFICIAL REPORT)</docStatus>\n",
      "            </block>\n",
      "            <block name=\"date_ga\">\n",
      "                <docDate date=\"2015-11-12\">D&#233;ardaoin, 12 Samhain 2015</docDate>\n",
      "            </block>\n",
      "            <block name=\"date_en\">\n",
      "                <docDate date=\"2015-11-12\">Thursday, 12 November 2015</docDate>\n",
      "            </block>\n",
      "        </preface>\n",
      "        </akomaNtoso>\n"
     ]
    }
   ],
   "source": [
    "AN = new_akn_root()\n",
    "AN.append(preface[0])\n",
    "print(etree.tostring(AN).decode(\"utf-8\"))"
   ]
  },
  {
   "cell_type": "code",
   "execution_count": null,
   "metadata": {
    "collapsed": true
   },
   "outputs": [],
   "source": []
  }
 ],
 "metadata": {
  "kernelspec": {
   "display_name": "Python 3",
   "language": "python",
   "name": "python3"
  },
  "language_info": {
   "codemirror_mode": {
    "name": "ipython",
    "version": 3
   },
   "file_extension": ".py",
   "mimetype": "text/x-python",
   "name": "python",
   "nbconvert_exporter": "python",
   "pygments_lexer": "ipython3",
   "version": "3.5.1"
  }
 },
 "nbformat": 4,
 "nbformat_minor": 0
}
