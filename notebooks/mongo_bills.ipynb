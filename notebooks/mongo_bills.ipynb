{
 "cells": [
  {
   "cell_type": "code",
   "execution_count": 1,
   "metadata": {
    "collapsed": true
   },
   "outputs": [],
   "source": [
    "import pymongo\n",
    "import requests\n",
    "import json\n",
    "import os\n",
    "import re\n",
    "import xmltodict\n",
    "from pprint import pprint"
   ]
  },
  {
   "cell_type": "code",
   "execution_count": 9,
   "metadata": {
    "collapsed": true
   },
   "outputs": [],
   "source": [
    "db = pymongo.MongoClient()\n",
    "datadir = \"https://raw.githubusercontent.com/Oireachtas/ontology/master/data/\""
   ]
  },
  {
   "cell_type": "code",
   "execution_count": 18,
   "metadata": {
    "collapsed": true
   },
   "outputs": [],
   "source": [
    "uriIndex = pymongo.IndexModel([(\"uri\", pymongo.ASCENDING)], name=\"uri_index\")\n",
    "dateIndex = pymongo.IndexModel([(\"date\", pymongo.DESCENDING)], name=\"date_desc_index\")\n",
    "eIdIndex = pymongo.IndexModel([(\"eId\", pymongo.ASCENDING)], name=\"eId_index\")"
   ]
  },
  {
   "cell_type": "code",
   "execution_count": 5,
   "metadata": {
    "collapsed": true
   },
   "outputs": [],
   "source": [
    "db.rest.drop_collection(billsbook)\n",
    "billsbook = requests.get(datadir+\"ParsedBillsBook.json\").json()\n",
    "db.rest.billsbook.insert_many(billsbook)"
   ]
  },
  {
   "cell_type": "code",
   "execution_count": 19,
   "metadata": {
    "collapsed": false
   },
   "outputs": [
    {
     "data": {
      "text/plain": [
       "'act_uri_1'"
      ]
     },
     "execution_count": 19,
     "metadata": {},
     "output_type": "execute_result"
    }
   ],
   "source": [
    "db.rest.billsbook.create_index([(\"act_uri\", pymongo.ASCENDING)])"
   ]
  },
  {
   "cell_type": "code",
   "execution_count": 27,
   "metadata": {
    "collapsed": false
   },
   "outputs": [
    {
     "data": {
      "text/plain": [
       "3614"
      ]
     },
     "execution_count": 27,
     "metadata": {},
     "output_type": "execute_result"
    }
   ],
   "source": [
    "for bill in db.billsbook.find({\"act_uri\": {\"$ne\": None}}).limit(10): \n",
    "    act = db.oireachtas.bills.find_one({\"_id\": bill['uri'].replace(\"/\", \".\")}, \n",
    "                                       {\"\"})"
   ]
  },
  {
   "cell_type": "code",
   "execution_count": 7,
   "metadata": {
    "collapsed": true
   },
   "outputs": [],
   "source": [
    "member = \"/member/Seán-MacEntee.D.1919-01-21/cabinet/dail/11/minister/local_government__public_health\""
   ]
  },
  {
   "cell_type": "code",
   "execution_count": 28,
   "metadata": {
    "collapsed": false
   },
   "outputs": [
    {
     "data": {
      "text/plain": [
       "{'_id': ObjectId('57a8e99ca59f5b3f1800b37f'),\n",
       " 'act_uri': None,\n",
       " 'bill_title_sh_en': 'Electoral Bill 1922',\n",
       " 'bill_title_sh_ga': 'Bille Timpeal Toghachán 1922',\n",
       " 'bill_type': 'Public',\n",
       " 'events': [],\n",
       " 'method': 'Introduction',\n",
       " 'source': 'Government',\n",
       " 'sponsorRole': [{'member': None, 'role': 'role/minister/local_government'}],\n",
       " 'status': 'lapsed',\n",
       " 'uri': 'bill/1922/6'}"
      ]
     },
     "execution_count": 28,
     "metadata": {},
     "output_type": "execute_result"
    }
   ],
   "source": [
    "db.billsbook.find_one()"
   ]
  }
 ],
 "metadata": {
  "kernelspec": {
   "display_name": "Python 3",
   "language": "python",
   "name": "python3"
  },
  "language_info": {
   "codemirror_mode": {
    "name": "ipython",
    "version": 3
   },
   "file_extension": ".py",
   "mimetype": "text/x-python",
   "name": "python",
   "nbconvert_exporter": "python",
   "pygments_lexer": "ipython3",
   "version": "3.5.1+"
  }
 },
 "nbformat": 4,
 "nbformat_minor": 0
}
