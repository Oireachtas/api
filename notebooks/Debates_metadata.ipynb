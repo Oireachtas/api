{
 "cells": [
  {
   "cell_type": "code",
   "execution_count": 1,
   "metadata": {
    "collapsed": true
   },
   "outputs": [],
   "source": [
    "from lxml import etree\n",
    "import json"
   ]
  },
  {
   "cell_type": "code",
   "execution_count": 2,
   "metadata": {
    "collapsed": false
   },
   "outputs": [],
   "source": [
    "AKN = {\"akn\": \"http://docs.oasis-open.org/legaldocml/ns/akn/3.0/CSD13\"}\n",
    "xml = \"../data/AK-dail-2015-11-12-v2.xml\"\n",
    "baseURI = \"http://oireachtas.ie\""
   ]
  },
  {
   "cell_type": "code",
   "execution_count": 3,
   "metadata": {
    "collapsed": false,
    "scrolled": true
   },
   "outputs": [],
   "source": [
    "root = etree.parse(xml)"
   ]
  },
  {
   "cell_type": "code",
   "execution_count": 4,
   "metadata": {
    "collapsed": true
   },
   "outputs": [],
   "source": [
    "house_name = root.xpath(\".//akn:preface/akn:block[@name='proponent_ga']/akn:docProponent/text()\", namespaces=AKN)"
   ]
  },
  {
   "cell_type": "code",
   "execution_count": 5,
   "metadata": {
    "collapsed": false
   },
   "outputs": [
    {
     "data": {
      "text/plain": [
       "'2015-11-12'"
      ]
     },
     "execution_count": 5,
     "metadata": {},
     "output_type": "execute_result"
    }
   ],
   "source": [
    "house_uri = root.find(\".//{*}FRBRWork/{*}FRBRauthor\").attrib['href']\n",
    "date = root.find(\".//{*}FRBRWork/{*}FRBRdate\").attrib['date']\n",
    "date"
   ]
  },
  {
   "cell_type": "code",
   "execution_count": 6,
   "metadata": {
    "collapsed": true
   },
   "outputs": [],
   "source": [
    "dbr_uri = root.xpath(\".//akn:FRBRWork/akn:FRBRuri/@value\", \n",
    "                                  namespaces=AKN)[0]"
   ]
  },
  {
   "cell_type": "markdown",
   "metadata": {},
   "source": [
    "### Debate Headings\n"
   ]
  },
  {
   "cell_type": "code",
   "execution_count": 37,
   "metadata": {
    "collapsed": false
   },
   "outputs": [],
   "source": [
    "headings = {\"debateList\": {\n",
    "            \"head\": { \"chamber\": {\"name\": house_name[0],\n",
    "                                 \"uri\": house_uri},\n",
    "                     \"dateRange\": {\"start\": date, \"end\": date },\n",
    "                     \"query\": None\n",
    "                    },\n",
    "            \"results\": [{\"debateRecord\": {\"uri\": dbr_uri, \"date\": date, \"debateSections\": []}}]\n",
    "        }}"
   ]
  },
  {
   "cell_type": "code",
   "execution_count": null,
   "metadata": {
    "collapsed": false
   },
   "outputs": [],
   "source": [
    "for dbs in root.xpath(\".//akn:debateSection[./akn:heading]\", namespaces=AKN):\n",
    "    count = len(dbs.xpath(\"./akn:speech\", namespaces=AKN))\n",
    "    parent_dbs = dbs.xpath(\"./parent::akn:debateSection\", namespaces=AKN)\n",
    "    if len(parent_dbs) > 0:\n",
    "        parent_uri = dbr_uri + \"/\" + parent_dbs[0].attrib['eId']\n",
    "        parent_heading = parent_dbs[0].find(\"./{*}heading\").text\n",
    "        parent = {\"uri\": parent_uri, \"heading\": parent_heading}\n",
    "    else:\n",
    "        parent = None\n",
    "    dbs_uri = dbr_uri + \"/\" + dbs.attrib['eId']\n",
    "    heading = dbs.find(\"./{*}heading\").text\n",
    "    data = {\"uri\": dbs_uri, \"heading\": heading, \"context\": None, \"speechCount\": count, \"parentDebateSection\": parent}\n",
    "    headings['debateList']['results'][0]['debateRecord']['debateSections'].append({\"debateSection\":data})"
   ]
  },
  {
   "cell_type": "code",
   "execution_count": 43,
   "metadata": {
    "collapsed": false
   },
   "outputs": [],
   "source": [
    "with open(\"../data/debate-list.json\", \"w\") as f:\n",
    "    json.dump(headings, f, sort_keys=True, indent=2)"
   ]
  },
  {
   "cell_type": "markdown",
   "metadata": {},
   "source": [
    "### Parliamentary Questions\n",
    "\n",
    "TODO: insert dot and space after question number in AKN\n",
    "\n",
    "TODO: \"D'Fhiafraigh\" missing from start of questions in Irish"
   ]
  },
  {
   "cell_type": "code",
   "execution_count": 84,
   "metadata": {
    "collapsed": false
   },
   "outputs": [],
   "source": [
    "questions = {\"questions\": \n",
    "             \n",
    "             {\"head\": { \"chamber\": {\"name\": house_name[0],\n",
    "                                 \"uri\": house_uri},\n",
    "                     \"dateRange\": {\"start\": date, \"end\": date },\n",
    "                     \"query\": None,\n",
    "                     \"by\": None,\n",
    "                     \"to\": None\n",
    "                    },\n",
    "            \"results\": []\n",
    "             }}\n",
    "# if by and to are used, they are dict: {\"uri\": AnyURI, \"showAs\": string}\n",
    "for q in root.xpath(\".//akn:question\", namespaces=AKN):\n",
    "    question = {\"by\": {},\n",
    "                \"to\": {},\n",
    "                \"debateSection\": {\"heading\": \"\", \"uri\": \"\"},\n",
    "                \"uri\": \"\",\n",
    "                \"text\": \"\",\n",
    "                \"questionNumber\": \"\"}\n",
    "    by_tlc = root.xpath(\".//akn:TLCPerson[@eId='{}']\".format(q.attrib['by'][1:]), namespaces=AKN)[0].attrib\n",
    "    to_tlc = root.xpath(\".//akn:TLCRole[@eId='{}']\".format(q.attrib['to'][1:]), namespaces=AKN)[0].attrib\n",
    "    question['uri'] = dbr_uri + \"/\" + q.attrib['eId']\n",
    "    question['questionNumber'] = int(q.attrib['eId'].split(\"_\")[-1])\n",
    "    question['by']['uri'] = by_tlc['href']\n",
    "    question['by']['showAs'] = by_tlc['showAs']\n",
    "    question['to']['uri'] = to_tlc['href']\n",
    "    question['to']['showAs'] = to_tlc['showAs']\n",
    "    dbs = q.xpath(\"./parent::akn:debateSection\", namespaces=AKN)[0]\n",
    "    question['debateSection']['uri'] = dbr_uri + \"/\" + dbs.attrib['eId']\n",
    "    question['debateSection']['heading'] = dbs.xpath(\"./akn:heading/text()\", namespaces=AKN)[0]\n",
    "    question['text'] = \" \".join(q.xpath(\"./akn:p//text()\", namespaces=AKN)).replace(\"  \", \" \")\n",
    "    question = {\"question\": question}\n",
    "    questions['questions']['results'].append(question)"
   ]
  },
  {
   "cell_type": "code",
   "execution_count": 87,
   "metadata": {
    "collapsed": false
   },
   "outputs": [],
   "source": [
    "with open(\"../data/question-list.json\", \"w\") as f:\n",
    "    json.dump(questions, f, sort_keys=True, indent=2)"
   ]
  },
  {
   "cell_type": "code",
   "execution_count": 86,
   "metadata": {
    "collapsed": false
   },
   "outputs": [
    {
     "data": {
      "text/plain": [
       "{'questions': {'head': {'by': None,\n",
       "   'chamber': {'name': 'DÁIL ÉIREANN', 'uri': '/ie/oireachtas/house/dail'},\n",
       "   'dateRange': {'end': '2015-11-12', 'start': '2015-11-12'},\n",
       "   'query': None,\n",
       "   'to': None},\n",
       "  'results': [{'question': {'by': {'showAs': 'Mr. Seán Ó Fearghaíl',\n",
       "      'uri': '/ie/oireachtas/member/Seán-Ó-Fearghaíl.S.2000-06-09/dail/31'},\n",
       "     'debateSection': {'heading': 'Heritage Council Funding',\n",
       "      'uri': '/akn/ie/debateRecord/dail/2015-11-12/debate/dbsect_4'},\n",
       "     'questionNumber': 1,\n",
       "     'text': '1 Deputy Seán Ó Fearghaíl asked the Minister for Arts, Heritage and the Gaeltacht the funding being provided for the Heritage Council in 2016; and if she will make a statement on the matter. [39716/15]',\n",
       "     'to': {'showAs': 'Minister for Arts, Heritage and the Gaeltacht',\n",
       "      'uri': '/ie/oireachtas/member/Heather-Humphreys.D.2011-03-09/dail/31/minister/arts__heritage__gaeltacht'},\n",
       "     'uri': '/akn/ie/debateRecord/dail/2015-11-12/debate/pq_1'}},\n",
       "   {'question': {'by': {'showAs': 'Mr. Pearse Doherty',\n",
       "      'uri': '/ie/oireachtas/member/Pearse-Doherty.S.2007-07-23/dail/31'},\n",
       "     'debateSection': {'heading': 'Seirbhísí Eitilte',\n",
       "      'uri': '/akn/ie/debateRecord/dail/2015-11-12/debate/dbsect_5'},\n",
       "     'questionNumber': 2,\n",
       "     'text': '2 Deputy Pearse Doherty den an Aire Ealaíon, Oidhreachta agus Gaeltachta an dtabharfaidh sí soiléiriú maidir leis na céimeanna atá á nglacadh ag an Roinn chun próiseas nua tairisceana a chur ar bun maidir leis an aersheirbhís go hÁrainn; cén rannpháirtíocht a bheidh ag pobal an oileáin sa phróiseas; agus an bhfuil sí ábalta a dheimhniú gur seirbhís eitleáin sciatháin dhobhogtha amach as Aerfort Réigiúnach Chonamara a bheidh á lorg. [39632/15]',\n",
       "     'to': {'showAs': 'Minister for Arts, Heritage and the Gaeltacht',\n",
       "      'uri': '/ie/oireachtas/member/Heather-Humphreys.D.2011-03-09/dail/31/minister/arts__heritage__gaeltacht'},\n",
       "     'uri': '/akn/ie/debateRecord/dail/2015-11-12/debate/pq_2'}},\n",
       "   {'question': {'by': {'showAs': \"Ms. Maureen O'Sullivan\",\n",
       "      'uri': \"/ie/oireachtas/member/Maureen-O'Sullivan.D.2009-06-05/dail/31\"},\n",
       "     'debateSection': {'heading': 'National Monuments',\n",
       "      'uri': '/akn/ie/debateRecord/dail/2015-11-12/debate/dbsect_6'},\n",
       "     'questionNumber': 3,\n",
       "     'text': '3 Deputy Maureen O’Sullivan asked the Minister for Arts, Heritage and the Gaeltacht if she will exercise the power conferred on her under the national monument certification process to undertake the preservation of 10 Moore Street in Dublin 1, identified by the National Museum as the point of entry into the terrace by the Irish garrison from the General Post Office, the location of the first council of war after the evacuation of the General Post Office, and where five signatories spent their last night before their surrender and execution, and those other buildings on the terrace identified in both the Frank Myles and Shaffrey reports. [39630/15]',\n",
       "     'to': {'showAs': 'Minister for Arts, Heritage and the Gaeltacht',\n",
       "      'uri': '/ie/oireachtas/member/Heather-Humphreys.D.2011-03-09/dail/31/minister/arts__heritage__gaeltacht'},\n",
       "     'uri': '/akn/ie/debateRecord/dail/2015-11-12/debate/pq_3'}},\n",
       "   {'question': {'by': {'showAs': 'Mr. Michael P. Kitt',\n",
       "      'uri': '/ie/oireachtas/member/Michael-P-Kitt.D.1975-03-04/dail/31'},\n",
       "     'debateSection': {'heading': 'Seirbhísí Eitilte',\n",
       "      'uri': '/akn/ie/debateRecord/dail/2015-11-12/debate/dbsect_7'},\n",
       "     'questionNumber': 4,\n",
       "     'text': '4 Deputy Michael P. Kitt den an Aire Ealaíon, Oidhreachta agus Gaeltachta céard atá beartaithe aici mar gheall ar aersheirbhís go dtí Oileáin Árann; an bhfuil sí sásta conradh nua aersheirbhíse a thosú; agus an ndéanfaidh sí ráiteas ina thaobh. [39717/15]',\n",
       "     'to': {'showAs': 'Minister for Arts, Heritage and the Gaeltacht',\n",
       "      'uri': '/ie/oireachtas/member/Heather-Humphreys.D.2011-03-09/dail/31/minister/arts__heritage__gaeltacht'},\n",
       "     'uri': '/akn/ie/debateRecord/dail/2015-11-12/debate/pq_4'}},\n",
       "   {'question': {'by': {'showAs': \"Ms. Maureen O'Sullivan\",\n",
       "      'uri': \"/ie/oireachtas/member/Maureen-O'Sullivan.D.2009-06-05/dail/31\"},\n",
       "     'debateSection': {'heading': 'National Monuments',\n",
       "      'uri': '/akn/ie/debateRecord/dail/2015-11-12/debate/dbsect_8'},\n",
       "     'questionNumber': 5,\n",
       "     'text': '5 Deputy Maureen O’Sullivan asked the Minister for Arts, Heritage and the Gaeltacht the person who costed and valued the sale of the NAMA-owned properties on the Moore Street battle site in Dublin 1; if there was a survey with a report available; if there will be a tendering process for contractors involved in the restoration; and when a timeframe will be drawn up for the works. [39631/15]',\n",
       "     'to': {'showAs': 'Minister for Arts, Heritage and the Gaeltacht',\n",
       "      'uri': '/ie/oireachtas/member/Heather-Humphreys.D.2011-03-09/dail/31/minister/arts__heritage__gaeltacht'},\n",
       "     'uri': '/akn/ie/debateRecord/dail/2015-11-12/debate/pq_5'}},\n",
       "   {'question': {'by': {'showAs': 'Ms. Michelle Mulherin',\n",
       "      'uri': '/ie/oireachtas/member/Michelle-Mulherin.D.2011-03-09/dail/31'},\n",
       "     'debateSection': {'heading': 'Cultural Policy',\n",
       "      'uri': '/akn/ie/debateRecord/dail/2015-11-12/debate/dbsect_10'},\n",
       "     'questionNumber': 6,\n",
       "     'text': '6 Deputy Michelle Mulherin asked the Minister for Arts, Heritage and the Gaeltacht the status of the consultation process for Culture 2025; and if she will make a statement on the matter. [39548/15]',\n",
       "     'to': {'showAs': 'Minister for Arts, Heritage and the Gaeltacht',\n",
       "      'uri': '/ie/oireachtas/member/Heather-Humphreys.D.2011-03-09/dail/31/minister/arts__heritage__gaeltacht'},\n",
       "     'uri': '/akn/ie/debateRecord/dail/2015-11-12/debate/pq_6'}},\n",
       "   {'question': {'by': {'showAs': 'Ms. Catherine Byrne',\n",
       "      'uri': '/ie/oireachtas/member/Catherine-Byrne.D.2007-06-14/dail/31'},\n",
       "     'debateSection': {'heading': 'Commemorative Events',\n",
       "      'uri': '/akn/ie/debateRecord/dail/2015-11-12/debate/dbsect_11'},\n",
       "     'questionNumber': 7,\n",
       "     'text': '7 Deputy Catherine Byrne asked the Minister for Arts, Heritage and the Gaeltacht the status of the commemorative projects at Richmond Barracks and Kilmainham Gaol in Dublin 8, which are being carried out as part of the Ireland 2016 centenary programme; and if she will make a statement on the matter. [39496/15]',\n",
       "     'to': {'showAs': 'Minister for Arts, Heritage and the Gaeltacht',\n",
       "      'uri': '/ie/oireachtas/member/Heather-Humphreys.D.2011-03-09/dail/31/minister/arts__heritage__gaeltacht'},\n",
       "     'uri': '/akn/ie/debateRecord/dail/2015-11-12/debate/pq_7'}},\n",
       "   {'question': {'by': {'showAs': 'Mr. Pearse Doherty',\n",
       "      'uri': '/ie/oireachtas/member/Pearse-Doherty.S.2007-07-23/dail/31'},\n",
       "     'debateSection': {'heading': 'Céanna agus Cuanta',\n",
       "      'uri': '/akn/ie/debateRecord/dail/2015-11-12/debate/dbsect_12'},\n",
       "     'questionNumber': 8,\n",
       "     'text': '8 Deputy Pearse Doherty den an Aire Ealaíon, Oidhreachta agus Gaeltachta an dtabharfaidh sí soiléiriú maidir leis an maoiniú a chuirfear ar fáil leis an obair riachtanach fheabhsúcháin a dhéanamh ar ché Inis Oírr; cén buiséad as a dtiocfaidh sé; cén uair a chuirfear ar fáil é; agus cathain, meastar, a bheidh an obair críochnaithe. [39530/15]',\n",
       "     'to': {'showAs': 'Minister for Arts, Heritage and the Gaeltacht',\n",
       "      'uri': '/ie/oireachtas/member/Heather-Humphreys.D.2011-03-09/dail/31/minister/arts__heritage__gaeltacht'},\n",
       "     'uri': '/akn/ie/debateRecord/dail/2015-11-12/debate/pq_8'}},\n",
       "   {'question': {'by': {'showAs': 'Mr. Seán Kyne',\n",
       "      'uri': '/ie/oireachtas/member/Seán-Kyne.D.2011-03-09/dail/31'},\n",
       "     'debateSection': {'heading': 'Pleananna Teanga',\n",
       "      'uri': '/akn/ie/debateRecord/dail/2015-11-12/debate/dbsect_13'},\n",
       "     'questionNumber': 9,\n",
       "     'text': '9 Deputy Seán Kyne den an Aire Ealaíon, Oidhreachta agus Gaeltachta an dul chun cinn atá déanta maidir le cruthú pleananna teanga le haghaidh ceantair Ghaeltachta; agus líon na pleananna atá forbartha agus curtha i ngníomh. [39555/15]',\n",
       "     'to': {'showAs': 'Minister for Arts, Heritage and the Gaeltacht',\n",
       "      'uri': '/ie/oireachtas/member/Heather-Humphreys.D.2011-03-09/dail/31/minister/arts__heritage__gaeltacht'},\n",
       "     'uri': '/akn/ie/debateRecord/dail/2015-11-12/debate/pq_9'}},\n",
       "   {'question': {'by': {'showAs': 'Mr. Seán Ó Fearghaíl',\n",
       "      'uri': '/ie/oireachtas/member/Seán-Ó-Fearghaíl.S.2000-06-09/dail/31'},\n",
       "     'debateSection': {'heading': 'Deer Culls',\n",
       "      'uri': '/akn/ie/debateRecord/dail/2015-11-12/debate/dbsect_14'},\n",
       "     'questionNumber': 11,\n",
       "     'text': '11 Deputy Seán Ó Fearghaíl asked the Minister for Arts, Heritage and the Gaeltacht her response to the proposed deer cull in Killarney National Park in County Kerry; and if she will make a statement on the matter. [39503/15]',\n",
       "     'to': {'showAs': 'Minister for Arts, Heritage and the Gaeltacht',\n",
       "      'uri': '/ie/oireachtas/member/Heather-Humphreys.D.2011-03-09/dail/31/minister/arts__heritage__gaeltacht'},\n",
       "     'uri': '/akn/ie/debateRecord/dail/2015-11-12/debate/pq_11'}}]}}"
      ]
     },
     "execution_count": 86,
     "metadata": {},
     "output_type": "execute_result"
    }
   ],
   "source": [
    "questions"
   ]
  },
  {
   "cell_type": "code",
   "execution_count": null,
   "metadata": {
    "collapsed": true
   },
   "outputs": [],
   "source": []
  }
 ],
 "metadata": {
  "kernelspec": {
   "display_name": "Python 3",
   "language": "python",
   "name": "python3"
  },
  "language_info": {
   "codemirror_mode": {
    "name": "ipython",
    "version": 3
   },
   "file_extension": ".py",
   "mimetype": "text/x-python",
   "name": "python",
   "nbconvert_exporter": "python",
   "pygments_lexer": "ipython3",
   "version": "3.5.1+"
  }
 },
 "nbformat": 4,
 "nbformat_minor": 0
}
