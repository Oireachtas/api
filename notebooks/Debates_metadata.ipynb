{
 "cells": [
  {
   "cell_type": "code",
   "execution_count": 29,
   "metadata": {
    "collapsed": false
   },
   "outputs": [],
   "source": [
    "from lxml import etree\n",
    "import json\n",
    "from dicttoxml import dicttoxml\n",
    "import xmltodict"
   ]
  },
  {
   "cell_type": "code",
   "execution_count": 3,
   "metadata": {
    "collapsed": true
   },
   "outputs": [],
   "source": [
    "AKN = {\"akn\": \"http://docs.oasis-open.org/legaldocml/ns/akn/3.0/CSD13\"}\n",
    "xml = \"../data/AK-dail-2015-11-12-v2.xml\"\n",
    "baseURI = \"http://oireachtas.ie\""
   ]
  },
  {
   "cell_type": "code",
   "execution_count": 4,
   "metadata": {
    "collapsed": false,
    "scrolled": true
   },
   "outputs": [],
   "source": [
    "root = etree.parse(xml)\n",
    "house_name = root.xpath(\".//akn:preface/akn:block[@name='proponent_ga']/akn:docProponent/text()\", \n",
    "                        namespaces=AKN)\n",
    "house_uri = root.find(\".//{*}FRBRWork/{*}FRBRauthor\").attrib['href']\n",
    "date = root.find(\".//{*}FRBRWork/{*}FRBRdate\").attrib['date']\n",
    "dbr_uri = root.xpath(\".//akn:FRBRWork/akn:FRBRuri/@value\", \n",
    "                                  namespaces=AKN)[0]"
   ]
  },
  {
   "cell_type": "markdown",
   "metadata": {},
   "source": [
    "### Debate Headings\n"
   ]
  },
  {
   "cell_type": "code",
   "execution_count": 54,
   "metadata": {
    "collapsed": false
   },
   "outputs": [],
   "source": [
    "headings = {\"debateList\": {\n",
    "            \"head\": { \"chamber\": {\"name\": house_name[0],\n",
    "                                 \"uri\": house_uri},\n",
    "                     \"dateRange\": {\"start\": date, \n",
    "                                   \"end\": date},\n",
    "                     \"query\": None,\n",
    "                     \"by\": {\"name\": None,\n",
    "                            \"uri\": None},\n",
    "                     \"as\": {\"name\": None,\n",
    "                            \"uri\": None},\n",
    "                     \"mostRecent\": 1\n",
    "                    },\n",
    "            \"results\": []\n",
    "           }\n",
    "        }\n",
    "\n",
    "# First for loop placeholder for when it comes to parsing the xml files\n",
    "for dbr in range(1):\n",
    "    dbsects = root.xpath(\".//akn:debateSection[./akn:heading]\", namespaces=AKN)\n",
    "    record = {\"debateRecord\": {\"uri\": dbr_uri, \n",
    "                               \"date\": date,\n",
    "                               \"debateSectionCount\": len(dbsects), \n",
    "                               \"debateSections\": [] \n",
    "                               }}\n",
    "    for dbs in dbsects:\n",
    "        speech_count = len(dbs.xpath(\"./akn:speech\", namespaces=AKN))\n",
    "        do_children_exist = len(dbs.xpath(\"./akn:summary|./akn:speech|./akn:p\", namespaces=AKN))>0\n",
    "        parent_dbs = dbs.xpath(\"./parent::akn:debateSection\", namespaces=AKN)\n",
    "        if len(parent_dbs) > 0:\n",
    "            parent_uri = dbr_uri + \"/\" + parent_dbs[0].attrib['eId']\n",
    "            parent_heading = parent_dbs[0].find(\"./{*}heading\").text\n",
    "            parent = {\"uri\": parent_uri, \n",
    "                      \"heading\": parent_heading}\n",
    "        else:\n",
    "            parent = None\n",
    "        dbs_uri = dbr_uri + \"/\" + dbs.attrib['eId']\n",
    "        heading = dbs.find(\"./{*}heading\").text\n",
    "        data = {\"uri\": dbs_uri, \n",
    "                \"heading\": heading, \n",
    "                \"context\": None, \n",
    "                \"speechCount\": speech_count, \n",
    "                \"parentDebateSection\": parent,\n",
    "               \"containsDebate\": do_children_exist}\n",
    "        record['debateRecord']['debateSections'].append({\"debateSection\":data})\n",
    "    headings['debateList']['results'].append(record)  "
   ]
  },
  {
   "cell_type": "code",
   "execution_count": 55,
   "metadata": {
    "collapsed": false
   },
   "outputs": [],
   "source": [
    "with open(\"../data/debate-list.json\", \"w\") as f:\n",
    "    json.dump(headings, f, sort_keys=True, indent=2)"
   ]
  },
  {
   "cell_type": "code",
   "execution_count": 56,
   "metadata": {
    "collapsed": true
   },
   "outputs": [],
   "source": [
    "with open(\"../data/debate-list.xml\", \"w\") as f:\n",
    "    f.write(xmltodict.unparse(headings, pretty=True))"
   ]
  },
  {
   "cell_type": "markdown",
   "metadata": {},
   "source": [
    "### Parliamentary Questions\n",
    "\n",
    "TODO: insert dot and space after question number in AKN\n",
    "\n",
    "TODO: \"D'Fhiafraigh\" missing from start of questions in Irish"
   ]
  },
  {
   "cell_type": "code",
   "execution_count": 84,
   "metadata": {
    "collapsed": false
   },
   "outputs": [],
   "source": [
    "questions = {\"questions\": \n",
    "             \n",
    "             {\"head\": { \"chamber\": {\"name\": house_name[0],\n",
    "                                 \"uri\": house_uri},\n",
    "                     \"dateRange\": {\"start\": date, \"end\": date },\n",
    "                     \"query\": None,\n",
    "                     \"by\": None,\n",
    "                     \"to\": None\n",
    "                    },\n",
    "            \"results\": []\n",
    "             }}\n",
    "# if by and to are used, they are dict: {\"uri\": AnyURI, \"showAs\": string}\n",
    "for q in root.xpath(\".//akn:question\", namespaces=AKN):\n",
    "    question = {\"by\": {},\n",
    "                \"to\": {},\n",
    "                \"debateSection\": {\"heading\": \"\", \"uri\": \"\"},\n",
    "                \"uri\": \"\",\n",
    "                \"text\": \"\",\n",
    "                \"questionNumber\": \"\"}\n",
    "    by_tlc = root.xpath(\".//akn:TLCPerson[@eId='{}']\".format(q.attrib['by'][1:]), namespaces=AKN)[0].attrib\n",
    "    to_tlc = root.xpath(\".//akn:TLCRole[@eId='{}']\".format(q.attrib['to'][1:]), namespaces=AKN)[0].attrib\n",
    "    question['uri'] = dbr_uri + \"/\" + q.attrib['eId']\n",
    "    question['questionNumber'] = int(q.attrib['eId'].split(\"_\")[-1])\n",
    "    question['by']['uri'] = by_tlc['href']\n",
    "    question['by']['showAs'] = by_tlc['showAs']\n",
    "    question['to']['uri'] = to_tlc['href']\n",
    "    question['to']['showAs'] = to_tlc['showAs']\n",
    "    dbs = q.xpath(\"./parent::akn:debateSection\", namespaces=AKN)[0]\n",
    "    question['debateSection']['uri'] = dbr_uri + \"/\" + dbs.attrib['eId']\n",
    "    question['debateSection']['heading'] = dbs.xpath(\"./akn:heading/text()\", namespaces=AKN)[0]\n",
    "    question['text'] = \" \".join(q.xpath(\"./akn:p//text()\", namespaces=AKN)).replace(\"  \", \" \")\n",
    "    question = {\"question\": question}\n",
    "    questions['questions']['results'].append(question)"
   ]
  },
  {
   "cell_type": "code",
   "execution_count": 87,
   "metadata": {
    "collapsed": false
   },
   "outputs": [],
   "source": [
    "with open(\"../data/question-list.json\", \"w\") as f:\n",
    "    json.dump(questions, f, sort_keys=True, indent=2)"
   ]
  },
  {
   "cell_type": "markdown",
   "metadata": {
    "collapsed": true
   },
   "source": [
    "### Votes"
   ]
  },
  {
   "cell_type": "code",
   "execution_count": null,
   "metadata": {
    "collapsed": true
   },
   "outputs": [],
   "source": []
  }
 ],
 "metadata": {
  "kernelspec": {
   "display_name": "Python 3",
   "language": "python",
   "name": "python3"
  },
  "language_info": {
   "codemirror_mode": {
    "name": "ipython",
    "version": 3
   },
   "file_extension": ".py",
   "mimetype": "text/x-python",
   "name": "python",
   "nbconvert_exporter": "python",
   "pygments_lexer": "ipython3",
   "version": "3.5.1+"
  }
 },
 "nbformat": 4,
 "nbformat_minor": 0
}
