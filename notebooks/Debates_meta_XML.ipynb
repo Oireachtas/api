{
 "cells": [
  {
   "cell_type": "code",
   "execution_count": 47,
   "metadata": {
    "collapsed": true
   },
   "outputs": [],
   "source": [
    "from lxml import etree\n",
    "import json"
   ]
  },
  {
   "cell_type": "code",
   "execution_count": 4,
   "metadata": {
    "collapsed": false
   },
   "outputs": [],
   "source": [
    "AKN = {\"akn\": \"http://docs.oasis-open.org/legaldocml/ns/akn/3.0/CSD13\"}\n",
    "xml = \"../debates/AK-dail-2015-11-12-v2.xml\"\n",
    "baseURI = \"http://oireachtas.ie\""
   ]
  },
  {
   "cell_type": "code",
   "execution_count": 5,
   "metadata": {
    "collapsed": true
   },
   "outputs": [],
   "source": [
    "root = etree.parse(xml)"
   ]
  },
  {
   "cell_type": "code",
   "execution_count": 6,
   "metadata": {
    "collapsed": true
   },
   "outputs": [],
   "source": [
    "house_name = root.xpath(\".//akn:preface/akn:block[@name='proponent_ga']/akn:docProponent/text()\", namespaces=AKN)"
   ]
  },
  {
   "cell_type": "code",
   "execution_count": 14,
   "metadata": {
    "collapsed": false
   },
   "outputs": [
    {
     "data": {
      "text/plain": [
       "'2015-11-12'"
      ]
     },
     "execution_count": 14,
     "metadata": {},
     "output_type": "execute_result"
    }
   ],
   "source": [
    "house_uri = root.find(\".//{*}FRBRWork/{*}FRBRauthor\").attrib['href']\n",
    "date = root.find(\".//{*}FRBRWork/{*}FRBRdate\").attrib['date']\n",
    "date"
   ]
  },
  {
   "cell_type": "code",
   "execution_count": 21,
   "metadata": {
    "collapsed": true
   },
   "outputs": [],
   "source": [
    "dbr_uri = root.xpath(\".//akn:FRBRWork/akn:FRBRuri/@value\", \n",
    "                                  namespaces=AKN)[0]"
   ]
  },
  {
   "cell_type": "markdown",
   "metadata": {},
   "source": [
    "### Debate Headings\n"
   ]
  },
  {
   "cell_type": "code",
   "execution_count": 63,
   "metadata": {
    "collapsed": false
   },
   "outputs": [],
   "source": [
    "headings = {\"debate-list\": {\n",
    "            \"head\": { \"chamber\": {\"name\": house_name[0],\n",
    "                                 \"uri\": house_uri},\n",
    "                     \"date-range\": {\"start\": date, \"end\": date },\n",
    "                     \"search-terms\": []\n",
    "                    },\n",
    "            \"results\": [{\"debateRecord\": {\"uri\": dbr_uri, \"date\": date, \"headings\": []}}]\n",
    "        }}"
   ]
  },
  {
   "cell_type": "code",
   "execution_count": 64,
   "metadata": {
    "collapsed": false
   },
   "outputs": [],
   "source": [
    "for dbs in root.xpath(\".//akn:debateSection[./akn:heading]\", namespaces=AKN):\n",
    "    dbs_uri = dbr_uri + \"/\" + dbs.attrib['eId']\n",
    "    heading = dbs.find(\"./{*}heading\").text\n",
    "    data = {\"uri\": dbs_uri, \"value\": heading, \"context\": None}\n",
    "    headings['debate-list']['results'][0]['debateRecord']['headings'].append({\"heading\":data})"
   ]
  },
  {
   "cell_type": "code",
   "execution_count": 65,
   "metadata": {
    "collapsed": false
   },
   "outputs": [],
   "source": [
    "with open(\"../debates/debate-list.json\", \"w\") as f:\n",
    "    json.dump(headings2, f, sort_keys=True, indent=2)"
   ]
  },
  {
   "cell_type": "markdown",
   "metadata": {},
   "source": [
    "### Parliamentary Questions"
   ]
  },
  {
   "cell_type": "code",
   "execution_count": null,
   "metadata": {
    "collapsed": true
   },
   "outputs": [],
   "source": []
  }
 ],
 "metadata": {
  "kernelspec": {
   "display_name": "Python 3",
   "language": "python",
   "name": "python3"
  },
  "language_info": {
   "codemirror_mode": {
    "name": "ipython",
    "version": 3
   },
   "file_extension": ".py",
   "mimetype": "text/x-python",
   "name": "python",
   "nbconvert_exporter": "python",
   "pygments_lexer": "ipython3",
   "version": "3.5.1"
  }
 },
 "nbformat": 4,
 "nbformat_minor": 0
}
