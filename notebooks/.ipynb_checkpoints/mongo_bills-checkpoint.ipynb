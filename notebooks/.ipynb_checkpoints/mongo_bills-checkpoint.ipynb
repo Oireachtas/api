{
 "cells": [
  {
   "cell_type": "code",
   "execution_count": 2,
   "metadata": {
    "collapsed": true
   },
   "outputs": [],
   "source": [
    "import pymongo\n",
    "import requests\n",
    "import json\n",
    "import os\n",
    "import re\n",
    "import xmltodict\n",
    "from pprint import pprint"
   ]
  },
  {
   "cell_type": "code",
   "execution_count": 9,
   "metadata": {
    "collapsed": true
   },
   "outputs": [],
   "source": [
    "db = pymongo.MongoClient()\n",
    "datadir = \"https://raw.githubusercontent.com/Oireachtas/ontology/master/data/\""
   ]
  },
  {
   "cell_type": "code",
   "execution_count": 18,
   "metadata": {
    "collapsed": true
   },
   "outputs": [],
   "source": [
    "uriIndex = pymongo.IndexModel([(\"uri\", pymongo.ASCENDING)], name=\"uri_index\")\n",
    "dateIndex = pymongo.IndexModel([(\"date\", pymongo.DESCENDING)], name=\"date_desc_index\")\n",
    "eIdIndex = pymongo.IndexModel([(\"eId\", pymongo.ASCENDING)], name=\"eId_index\")"
   ]
  },
  {
   "cell_type": "code",
   "execution_count": 5,
   "metadata": {
    "collapsed": true
   },
   "outputs": [],
   "source": [
    "db.rest.drop_collection(billsbook)\n",
    "billsbook = requests.get(datadir+\"ParsedBillsBook.json\").json()\n",
    "db.rest.billsbook.insert_many(billsbook)"
   ]
  },
  {
   "cell_type": "code",
   "execution_count": 19,
   "metadata": {
    "collapsed": false
   },
   "outputs": [
    {
     "data": {
      "text/plain": [
       "'act_uri_1'"
      ]
     },
     "execution_count": 19,
     "metadata": {},
     "output_type": "execute_result"
    }
   ],
   "source": [
    "db.rest.billsbook.create_index([(\"act_uri\", pymongo.ASCENDING)])"
   ]
  },
  {
   "cell_type": "code",
   "execution_count": 27,
   "metadata": {
    "collapsed": false
   },
   "outputs": [
    {
     "data": {
      "text/plain": [
       "3614"
      ]
     },
     "execution_count": 27,
     "metadata": {},
     "output_type": "execute_result"
    }
   ],
   "source": [
    "for bill in db.billsbook.find({\"act_uri\": {\"$ne\": None}}).limit(10): \n",
    "    act = db.oireachtas.bills.find_one({\"_id\": bill['uri'].replace(\"/\", \".\")}, \n",
    "                                       {\"\"})"
   ]
  },
  {
   "cell_type": "code",
   "execution_count": 7,
   "metadata": {
    "collapsed": true
   },
   "outputs": [],
   "source": [
    "member = \"/member/Seán-MacEntee.D.1919-01-21/cabinet/dail/11/minister/local_government__public_health\""
   ]
  },
  {
   "cell_type": "code",
   "execution_count": 16,
   "metadata": {
    "collapsed": false
   },
   "outputs": [
    {
     "data": {
      "text/plain": [
       "{'_id': ObjectId('57a7924ea59f5b1c952fc2f7'),\n",
       " 'memberships': [{'membership': {'offices': []}},\n",
       "  {'membership': {'offices': []}},\n",
       "  {'membership': {'offices': []}},\n",
       "  {'membership': {'offices': []}},\n",
       "  {'membership': {'offices': [{'office': {'cabinet': {'showAs': 'Government of the 25th Dáil',\n",
       "        'uri': '/cabinet/dail/25'},\n",
       "       'dateRange': {'end': '1989-06-29', 'start': '1987-03-10'},\n",
       "       'officeName': {'showAs': 'Minister for Labour',\n",
       "        'uri': '/office/minister/labour'}}}]}},\n",
       "  {'membership': {'offices': [{'office': {'cabinet': {'showAs': 'Government of the 26th Dáil',\n",
       "        'uri': '/cabinet/dail/26'},\n",
       "       'dateRange': {'end': '1991-11-14', 'start': '1989-06-29'},\n",
       "       'officeName': {'showAs': 'Minister for Labour',\n",
       "        'uri': '/office/minister/labour'}}},\n",
       "     {'office': {'cabinet': {'showAs': 'Government of the 26th Dáil',\n",
       "        'uri': '/cabinet/dail/26'},\n",
       "       'dateRange': {'end': '1992-12-14', 'start': '1991-11-14'},\n",
       "       'officeName': {'showAs': 'Minister for Finance',\n",
       "        'uri': '/office/minister/finance'}}}]}},\n",
       "  {'membership': {'offices': [{'office': {'cabinet': {'showAs': 'Government of the 27th Dáil',\n",
       "        'uri': '/cabinet/dail/27'},\n",
       "       'dateRange': {'end': '1994-12-15', 'start': '1992-12-14'},\n",
       "       'officeName': {'showAs': 'Minister for Finance',\n",
       "        'uri': '/office/minister/finance'}}},\n",
       "     {'office': {'cabinet': {'showAs': 'Government of the 27th Dáil',\n",
       "        'uri': '/cabinet/dail/27'},\n",
       "       'dateRange': {'end': '1993-01-12', 'start': '1993-01-04'},\n",
       "       'officeName': {'showAs': 'Minister for Industry and Commerce',\n",
       "        'uri': '/office/minister/industry__commerce'}}},\n",
       "     {'office': {'cabinet': {'showAs': 'Government of the 27th Dáil',\n",
       "        'uri': '/cabinet/dail/27'},\n",
       "       'dateRange': {'end': '1994-12-15', 'start': '1994-11-17'},\n",
       "       'officeName': {'showAs': 'Tánaiste', 'uri': '/office/tanaiste'}}},\n",
       "     {'office': {'cabinet': {'showAs': 'Government of the 27th Dáil',\n",
       "        'uri': '/cabinet/dail/27'},\n",
       "       'dateRange': {'end': '1994-12-15', 'start': '1994-11-18'},\n",
       "       'officeName': {'showAs': 'Minister for Arts, Culture and the Gaeltacht',\n",
       "        'uri': '/office/minister/arts__culture__gaeltacht'}}}]}},\n",
       "  {'membership': {'offices': [{'office': {'cabinet': {'showAs': 'Government of the 28th Dáil',\n",
       "        'uri': '/cabinet/dail/28'},\n",
       "       'dateRange': {'end': '2002-06-06', 'start': '1997-06-26'},\n",
       "       'officeName': {'showAs': 'Taoiseach', 'uri': '/office/taoiseach'}}}]}},\n",
       "  {'membership': {'offices': [{'office': {'cabinet': {'showAs': 'Government of the 29th Dáil',\n",
       "        'uri': '/cabinet/dail/29'},\n",
       "       'dateRange': {'end': '2007-06-14', 'start': '2002-06-06'},\n",
       "       'officeName': {'showAs': 'Taoiseach', 'uri': '/office/taoiseach'}}}]}},\n",
       "  {'membership': {'offices': [{'office': {'cabinet': {'showAs': 'Government of the 30th Dáil',\n",
       "        'uri': '/cabinet/dail/30'},\n",
       "       'dateRange': {'end': '2008-05-07', 'start': '2007-06-14'},\n",
       "       'officeName': {'showAs': 'Taoiseach', 'uri': '/office/taoiseach'}}}]}}]}"
      ]
     },
     "execution_count": 16,
     "metadata": {},
     "output_type": "execute_result"
    }
   ],
   "source": [
    "db.members.find_one({\"memberships.membership.offices\": {\"$size\": 2}}, {\"memberships.membership.offices\": 1})"
   ]
  },
  {
   "cell_type": "code",
   "execution_count": 28,
   "metadata": {
    "collapsed": false
   },
   "outputs": [
    {
     "data": {
      "text/plain": [
       "{'_id': ObjectId('57a8e99ca59f5b3f1800b37f'),\n",
       " 'act_uri': None,\n",
       " 'bill_title_sh_en': 'Electoral Bill 1922',\n",
       " 'bill_title_sh_ga': 'Bille Timpeal Toghachán 1922',\n",
       " 'bill_type': 'Public',\n",
       " 'events': [],\n",
       " 'method': 'Introduction',\n",
       " 'source': 'Government',\n",
       " 'sponsorRole': [{'member': None, 'role': 'role/minister/local_government'}],\n",
       " 'status': 'lapsed',\n",
       " 'uri': 'bill/1922/6'}"
      ]
     },
     "execution_count": 28,
     "metadata": {},
     "output_type": "execute_result"
    }
   ],
   "source": [
    "db.billsbook.find_one()"
   ]
  }
 ],
 "metadata": {
  "kernelspec": {
   "display_name": "Python 3",
   "language": "python",
   "name": "python3"
  },
  "language_info": {
   "codemirror_mode": {
    "name": "ipython",
    "version": 3
   },
   "file_extension": ".py",
   "mimetype": "text/x-python",
   "name": "python",
   "nbconvert_exporter": "python",
   "pygments_lexer": "ipython3",
   "version": "3.5.1+"
  }
 },
 "nbformat": 4,
 "nbformat_minor": 0
}
