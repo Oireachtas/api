{
 "cells": [
  {
   "cell_type": "code",
   "execution_count": 1,
   "metadata": {
    "collapsed": false
   },
   "outputs": [],
   "source": [
    "from lxml import etree\n",
    "from copy import deepcopy"
   ]
  },
  {
   "cell_type": "code",
   "execution_count": 2,
   "metadata": {
    "collapsed": false
   },
   "outputs": [],
   "source": [
    "AKN = {\"akn\": \"http://docs.oasis-open.org/legaldocml/ns/akn/3.0/CSD13\"}\n",
    "xml = \"../data/AK-dail-2015-11-12-v2.xml\"\n",
    "baseURI = \"http://oireachtas.ie\"\n",
    "nsmap = {None: AKN['akn'],\n",
    "         'xsi':\"http://www.w3.org/2001/XMLSchema-instance\"}"
   ]
  },
  {
   "cell_type": "code",
   "execution_count": 3,
   "metadata": {
    "collapsed": false
   },
   "outputs": [],
   "source": [
    "root = etree.parse(xml).getroot()"
   ]
  },
  {
   "cell_type": "markdown",
   "metadata": {},
   "source": [
    "## Questions in Akoma Ntoso\n",
    "\n",
    "Questions are represented as a subset of the Akoma Ntoso file for an the day's debate. The debate body consists of the parent debateSection for the question (along with any other questions that have been taken together)."
   ]
  },
  {
   "cell_type": "code",
   "execution_count": 4,
   "metadata": {
    "collapsed": false
   },
   "outputs": [],
   "source": [
    "# Using deepcopy to create copy because etree objects are mutable.\n",
    "pq_root = deepcopy(root)"
   ]
  },
  {
   "cell_type": "code",
   "execution_count": 5,
   "metadata": {
    "collapsed": false
   },
   "outputs": [],
   "source": [
    "for p in root.xpath('.//akn:question/akn:p[contains(., \"Aire\") and not(contains(., \"D\\'Fhiafraigh\"))]', namespaces=AKN):\n",
    "    p.text = p.text.strip() + \". D'Fhiafraigh \""
   ]
  },
  {
   "cell_type": "code",
   "execution_count": null,
   "metadata": {
    "collapsed": false
   },
   "outputs": [],
   "source": [
    "pqs = root.xpath(\".//akn:debateSection[@name='question'][./akn:question]\", namespaces=AKN)\n",
    "for pq in pqs[2:3]:\n",
    "    pq_eId = pq.attrib[\"eId\"]\n",
    "    pq_root = deepcopy(root)\n",
    "    for this in pq_root.xpath(\".//akn:FRBRthis\", namespaces=AKN):\n",
    "        \n",
    "    preface = pq_root.xpath(\".//akn:preface\", namespaces=AKN)\n",
    "    meta = root.find(\".//{*}meta\")\n",
    "    meta.remove(meta.find(\"./{*}analysis\"))\n",
    "    meta.remove(meta.find(\"./{*}references\"))\n",
    "    root.find(\"./{*}debate\").remove(root.find(\".//{*}debateBody\"))\n",
    "    dbody = etree.SubElement(root.find(\"./{*}debate\"), \"debateBody\")\n",
    "    dbody.append(pqs)"
   ]
  },
  {
   "cell_type": "code",
   "execution_count": 12,
   "metadata": {
    "collapsed": false
   },
   "outputs": [
    {
     "name": "stdout",
     "output_type": "stream",
     "text": [
      "<akomaNtoso xmlns=\"http://docs.oasis-open.org/legaldocml/ns/akn/3.0/CSD13\" xmlns:xsi=\"http://www.w3.org/2001/XMLSchema-instance\" xsi:schemaLocation=\"http://docs.oasis-open.org/legaldocml/ns/akn/3.0/CSD13 ./akomantoso30.xsd \">\n",
      "    <debate name=\"Official Report\">\n",
      "        <meta>\n",
      "            <identification source=\"#source\">\n",
      "                <FRBRWork>\n",
      "                    <FRBRthis value=\"/akn/ie/debateRecord/dail/2015-11-12/debate/main\"/>\n",
      "                    <FRBRuri value=\"/akn/ie/debateRecord/dail/2015-11-12/debate\"/>\n",
      "                    <FRBRdate date=\"2015-11-12\" name=\"#generation\"/>\n",
      "                    <FRBRauthor href=\"/ie/oireachtas/house/dail\"/>\n",
      "                    <FRBRcountry value=\"ie\"/>\n",
      "                <FRBRname value=\"debate\"/></FRBRWork>\n",
      "                <FRBRExpression>\n",
      "                    <FRBRthis value=\"/akn/ie/debateRecord/dail/2015-11-12/debate/mul@/main\"/>\n",
      "                    <FRBRuri value=\"/akn/ie/debateRecord/dail/2015-11-12/debate/mul@\"/>\n",
      "                    <FRBRdate date=\"2015-11-12\" name=\"#reported\"/>\n",
      "                    <FRBRauthor href=\"/ie/oireachtas/role/debates\"/>\n",
      "                    <FRBRlanguage language=\"mul\"/>\n",
      "                </FRBRExpression>\n",
      "                <FRBRManifestation>\n",
      "                    <FRBRthis value=\"/akn/ie/debateRecord/dail/2015-11-12/debate/mul@/main.xml\"/>\n",
      "                    <FRBRuri value=\"/akn/ie/debateRecord/dail/2015-11-12/debate/mul@.akn\"/>\n",
      "                    <FRBRdate date=\"2016-06-06T04:16:10.668776\" name=\"#publication\"/>\n",
      "                    <FRBRauthor href=\"/ie/oireachtas/role/debates\"/>\n",
      "                </FRBRManifestation>\n",
      "            </identification>\n",
      "            </meta>\n",
      "        <preface>\n",
      "            <block name=\"title_ga\">\n",
      "                <docTitle>D&#205;OSP&#211;IREACHTA&#205; PARLAIMINTE</docTitle>\n",
      "            </block>\n",
      "            <block name=\"title_en\">\n",
      "                <docTitle>PARLIAMENTARY DEBATES</docTitle>\n",
      "            </block>\n",
      "            <block name=\"proponent_ga\">\n",
      "                <docProponent>D&#193;IL &#201;IREANN</docProponent>\n",
      "            </block>\n",
      "            <block name=\"status_ga\">\n",
      "                <docStatus>TUAIRISC OIFIGI&#218;IL</docStatus>\n",
      "            </block>\n",
      "            <block name=\"status_en\">\n",
      "                <docStatus>(OFFICIAL REPORT)</docStatus>\n",
      "            </block>\n",
      "            <block name=\"date_ga\">\n",
      "                <docDate date=\"2015-11-12\">D&#233;ardaoin, 12 Samhain 2015</docDate>\n",
      "            </block>\n",
      "            <block name=\"date_en\">\n",
      "                <docDate date=\"2015-11-12\">Thursday, 12 November 2015</docDate>\n",
      "            </block>\n",
      "        </preface>\n",
      "        <debateBody><debateSection name=\"question\" eId=\"dbsect_4\">\n",
      "                    <heading>Heritage Council Funding</heading>\n",
      "                    <question by=\"#SeanOFearghaillFF\" to=\"#Minister_for_Arts,_Heritage_and_the_Gaeltacht\" eId=\"pq_1\">\n",
      "                        <p eId=\"para_1\">1<b>Deputy Se&#225;n &#211; Feargha&#237;l</b> asked the <b>Minister for Arts, Heritage and the Gaeltacht</b> the funding being provided for the Heritage Council in 2016; and if she will make a statement on the matter. [39716/15]</p>\n",
      "                    </question>\n",
      "                    <speech by=\"#SeanOFearghaillFF\" eId=\"spk_1\">\n",
      "                        <from>Deputy Se&#225;n &#211; Feargha&#237;l</from>\n",
      "                        <p eId=\"para_2\">This is a simple and straightforward question which seeks to establish the funding situation of the Heritage Council.  I am particularly conscious of the fact that the Heritage Council, like all other State bodies, has understandably suffered significant cutbacks.  Will  the Minister of State give some sense of what is going to happen?</p>\n",
      "                    </speech>\n",
      "                    <speech by=\"#HeatherHumphreys\" as=\"#Minister_for_Arts,_Heritage_and_the_Gaeltacht\" eId=\"spk_2\">\n",
      "                        <from>Minister for Arts, Heritage and the Gaeltacht  (Deputy Heather Humphreys)</from>\n",
      "                        <p eId=\"para_3\">My Department is considering the funding available for the protection and conservation of the built heritage in 2016 in the context of its overall allocation and I will publish details of funding schemes for 2016 as soon as these are finalised.  Funding for the protection of built heritage will continue to be provided by my Department via a number of schemes which will be either directly administered or delivered through local authorities and agencies such as the Heritage Council.</p>\n",
      "                        <p eId=\"para_4\">As the Deputy can appreciate, the scope for funding for the conservation of the built heritage is constrained by the significant reduction in the public finances.  Nonetheless, I keep the competing priorities regarding the preservation and enhancement of the national heritage under ongoing review having regard to the resources available to my Department.  In this regard, my Department, in consultation with the Heritage Council, will be undertaking an expenditure review of the Heritage Council in early 2016 with a view to identifying any further improvements that might be achieved in the delivery of heritage services.</p>\n",
      "                        <p eId=\"para_5\">My Department's allocation to the Heritage Council in 2016 will be subject to the normal budgetary processes and final confirmation in the Revised Estimates.  It is primarily a matter for the Heritage Council to decide how its funding should be allocated across the range of research, education and conservation programmes it supports in 2016 and future years having regard to competing priorities for limited resources.</p>\n",
      "                    </speech>\n",
      "                    <speech by=\"#SeanOFearghaillFF\" eId=\"spk_3\">\n",
      "                        <from>Deputy Se&#225;n &#211; Feargha&#237;l</from>\n",
      "                        <p eId=\"para_6\">Has the Minister refused a request this year from the Heritage Council for a modest increase of &#8364;2.5 million in its budget?  The background to this debate is the meeting of the Oireachtas committee earlier this week in which we looked at the value for money report on the work of the Arts Council.  It is difficult to quantify and produce data in respect of the value of this work, even though it is clear there is value in it.  In the area of heritage, however, there are clear data available which suggest that public investment in the built heritage and in the works being undertaken by the Heritage Council delivers a dividend for the State.  The figures suggest that every &#8364;1 spent by the Department through the Heritage Council generates &#8364;4.40 in tourism revenue for the State.  When the Heritage Council looks for more money it is looking for further investment to generate product for the State.</p>\n",
      "                    </speech>\n",
      "                    <speech by=\"#HeatherHumphreys\" eId=\"spk_4\" as=\"#Minister_for_Arts,_Heritage_and_the_Gaeltacht\">\n",
      "                        <from>Deputy Heather Humphreys</from>\n",
      "                        <p eId=\"para_7\">I acknowledge the work of the Heritage Council and the great work it does with communities.  In its pre-budget submission the council requested additional funding to invest in heritage-based initiatives, including an extended walled town network.  While this investment would be well spent, the reality is we are still living within constrained budgets and we have responsibility to manage the economy in a prudent fashion.  While I would love to be in a position to announce broad spending increases across all sections of my Department it would not be realistic, pragmatic or responsible.</p>\n",
      "                        <p eId=\"para_8\">I was pleased to announce a new built heritage investment scheme for the repair and conservation of protected structures, and this scheme is modelled on the built heritage jobs leverage scheme announced in 2013 which was very successfully piloted in 2014, resulting in the leveraging of almost &#8364;10 million in private sector investment and generating approximately 175 whole-time-equivalent jobs.</p>\n",
      "                    </speech>\n",
      "                    <speech by=\"#SeanOFearghaillFF\" eId=\"spk_5\">\n",
      "                        <from>Deputy Se&#225;n &#211; Feargha&#237;l</from>\n",
      "                        <p eId=\"para_9\">We estimate that there are 25,000 jobs involved in the area of Ireland's historic environment and that &#8364;1.5 billion is being generated, so when we talk about investment in the Heritage Council, it is investment, not expenditure, and it more than pays for itself.  Is it true the Minister of State has refused the extra &#8364;2.5 million for which the Heritage Council asked?  Where stands does the action plan promised for historic properties?  Has it been published yet?  If it has not, when will it be published?  Is the Minister going to develop the heritage in schools programme into second level where there is obviously a need?  What more can she do to support the work of heritage officers?  In Kildare, for example, we have an outstanding heritage officer who does great work and one can see tangible benefits from what she does on the ground in the form of additional visits to Kildare.  I am sure it is the same in the Minister's county and in many others throughout country.  What will the Minister do to ensure there is additional spending which gives rise to revenue for the Exchequer?</p>\n",
      "                    </speech>\n",
      "                    <speech by=\"#HeatherHumphreys\" eId=\"spk_6\" as=\"#Minister_for_Arts,_Heritage_and_the_Gaeltacht\">\n",
      "                        <from>Deputy Heather Humphreys</from>\n",
      "                        <p eId=\"para_10\">I have announced an extra &#8364;2 million for heritage investment, similar to the jobs leverage programme in 2014.  This is direct investment in heritage which will be rolled out through local authorities and community groups, and individuals will have an opportunity to apply for funding.  It is a 50:50 project, so if someone comes up with 50% of the funding, the other 50% will be provided by the Department.  I agree with the Deputy that heritage is very important and I acknowledge the work of heritage officers on the ground who have done great work in mobilising communities.  We all know how many local heritage groups there are and how they work together to improve the heritage offering in all counties.  I am a member of a heritage group myself.</p>\n",
      "                    </speech>\n",
      "                </debateSection>\n",
      "                </debateBody></debate>\n",
      "</akomaNtoso>\n"
     ]
    }
   ],
   "source": [
    "print(etree.tostring(root).decode(\"utf-8\"))"
   ]
  },
  {
   "cell_type": "code",
   "execution_count": 11,
   "metadata": {
    "collapsed": false,
    "scrolled": true
   },
   "outputs": [
    {
     "name": "stdout",
     "output_type": "stream",
     "text": [
      "<akomaNtoso xmlns=\"http://docs.oasis-open.org/legaldocml/ns/akn/3.0/CSD13\" xmlns:xsi=\"http://www.w3.org/2001/XMLSchema-instance\" xsi:schemaLocation=\"http://docs.oasis-open.org/legaldocml/ns/akn/3.0/CSD13 ./akomantoso30.xsd \">\n",
      "    </akomaNtoso>\n"
     ]
    }
   ],
   "source": [
    "print(etree.tostring(r).decode(\"utf-8\"))"
   ]
  },
  {
   "cell_type": "code",
   "execution_count": 71,
   "metadata": {
    "collapsed": false
   },
   "outputs": [],
   "source": [
    "def new_akn_root():\n",
    "    schema_loc = \"http://docs.oasis-open.org/legaldocml/ns/akn/3.0/CSD13 ./akomantoso30.xsd \"\n",
    "    AN = etree.Element('{' + AKN['akn'] + '}akomaNtoso',           \n",
    "            nsmap=nsmap,\n",
    "            attrib= {\"{\" + AKN['akn'] + \"}schemaLocation\": schema_loc})\n",
    "    return AN"
   ]
  },
  {
   "cell_type": "code",
   "execution_count": 86,
   "metadata": {
    "collapsed": false
   },
   "outputs": [
    {
     "data": {
      "text/plain": [
       "<Element {http://docs.oasis-open.org/legaldocml/ns/akn/3.0/CSD13}debateSection at 0x7fb04518ccc8>"
      ]
     },
     "execution_count": 86,
     "metadata": {},
     "output_type": "execute_result"
    }
   ],
   "source": [
    "pqs[1]"
   ]
  },
  {
   "cell_type": "code",
   "execution_count": 73,
   "metadata": {
    "collapsed": false
   },
   "outputs": [
    {
     "name": "stdout",
     "output_type": "stream",
     "text": [
      "<akomaNtoso xmlns:xsi=\"http://www.w3.org/2001/XMLSchema-instance\" xmlns=\"http://docs.oasis-open.org/legaldocml/ns/akn/3.0/CSD13\" xmlns:ns0=\"http://docs.oasis-open.org/legaldocml/ns/akn/3.0/CSD13\" ns0:schemaLocation=\"http://docs.oasis-open.org/legaldocml/ns/akn/3.0/CSD13 ./akomantoso30.xsd \"><preface>\n",
      "            <block name=\"title_ga\">\n",
      "                <docTitle>D&#205;OSP&#211;IREACHTA&#205; PARLAIMINTE</docTitle>\n",
      "            </block>\n",
      "            <block name=\"title_en\">\n",
      "                <docTitle>PARLIAMENTARY DEBATES</docTitle>\n",
      "            </block>\n",
      "            <block name=\"proponent_ga\">\n",
      "                <docProponent>D&#193;IL &#201;IREANN</docProponent>\n",
      "            </block>\n",
      "            <block name=\"status_ga\">\n",
      "                <docStatus>TUAIRISC OIFIGI&#218;IL</docStatus>\n",
      "            </block>\n",
      "            <block name=\"status_en\">\n",
      "                <docStatus>(OFFICIAL REPORT)</docStatus>\n",
      "            </block>\n",
      "            <block name=\"date_ga\">\n",
      "                <docDate date=\"2015-11-12\">D&#233;ardaoin, 12 Samhain 2015</docDate>\n",
      "            </block>\n",
      "            <block name=\"date_en\">\n",
      "                <docDate date=\"2015-11-12\">Thursday, 12 November 2015</docDate>\n",
      "            </block>\n",
      "        </preface>\n",
      "        </akomaNtoso>\n"
     ]
    }
   ],
   "source": [
    "AN = new_akn_root()\n",
    "AN.append(preface[0])\n",
    "print(etree.tostring(AN).decode(\"utf-8\"))"
   ]
  },
  {
   "cell_type": "code",
   "execution_count": null,
   "metadata": {
    "collapsed": true
   },
   "outputs": [],
   "source": []
  }
 ],
 "metadata": {
  "kernelspec": {
   "display_name": "Python 3",
   "language": "python",
   "name": "python3"
  },
  "language_info": {
   "codemirror_mode": {
    "name": "ipython",
    "version": 3
   },
   "file_extension": ".py",
   "mimetype": "text/x-python",
   "name": "python",
   "nbconvert_exporter": "python",
   "pygments_lexer": "ipython3",
   "version": "3.5.1"
  }
 },
 "nbformat": 4,
 "nbformat_minor": 0
}
