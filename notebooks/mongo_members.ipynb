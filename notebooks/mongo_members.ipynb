{
 "cells": [
  {
   "cell_type": "code",
   "execution_count": 268,
   "metadata": {
    "collapsed": false
   },
   "outputs": [],
   "source": [
    "from IPython.display import Image\n",
    "\n",
    "import pymongo\n",
    "import requests\n",
    "import json\n",
    "import os\n",
    "import re\n",
    "import xmltodict\n",
    "from pprint import pprint"
   ]
  },
  {
   "cell_type": "code",
   "execution_count": 4,
   "metadata": {
    "collapsed": false
   },
   "outputs": [],
   "source": [
    "db = pymongo.MongoClient()\n",
    "datadir = \"../../../ontology/data\"\n",
    "rest = db.oir_rest"
   ]
  },
  {
   "cell_type": "code",
   "execution_count": 297,
   "metadata": {
    "collapsed": false
   },
   "outputs": [],
   "source": [
    "uriIndex = pymongo.IndexModel([(\"uri\", pymongo.ASCENDING)], name=\"uri_index\")\n",
    "dateIndex = pymongo.IndexModel([(\"date\", pymongo.DESCENDING)], name=\"date_desc_index\")\n",
    "eIdIndex = pymongo.IndexModel([(\"eId\", pymongo.ASCENDING)], name=\"eId_index\")\n",
    "\n",
    "firstNameIndex = pymongo.IndexModel([(\"firstName\", pymongo.ASCENDING)], name=\"first_name_index\")\n",
    "lastNameIndex = pymongo.IndexModel([(\"lastName\", pymongo.ASCENDING)], name=\"last_name_index\")\n",
    "fullNameIndex = pymongo.IndexModel([(\"fullName\", pymongo.ASCENDING)], name=\"full_name_index\")"
   ]
  },
  {
   "cell_type": "code",
   "execution_count": 69,
   "metadata": {
    "collapsed": false
   },
   "outputs": [
    {
     "name": "stdout",
     "output_type": "stream",
     "text": [
      "True\n"
     ]
    },
    {
     "data": {
      "text/plain": [
       "['uri_index', 'first_name_index', 'last_name_index', 'full_name_index']"
      ]
     },
     "execution_count": 69,
     "metadata": {},
     "output_type": "execute_result"
    }
   ],
   "source": [
    "with open(os.path.join(datadir, \"members.json\"), \"r\") as f:\n",
    "    members = json.load(f)\n",
    "for m in members:\n",
    "    m['uri'] = m.pop(\"eId\")\n",
    "    m['dateOfBirth'] = m.pop('date_of_birth')\n",
    "    m['dateOfDeath'] = m.pop('date_of_death')\n",
    "    m['gender'] = None\n",
    "ins = rest.members.insert_many(members)\n",
    "print(ins.acknowledged)\n",
    "rest.members.create_indexes([uriIndex, firstNameIndex, lastNameIndex, fullNameIndex])"
   ]
  },
  {
   "cell_type": "code",
   "execution_count": 186,
   "metadata": {
    "collapsed": false
   },
   "outputs": [
    {
     "data": {
      "text/plain": [
       "<pymongo.results.InsertManyResult at 0x7f80800acd38>"
      ]
     },
     "execution_count": 186,
     "metadata": {},
     "output_type": "execute_result"
    }
   ],
   "source": [
    "rest.drop_collection(\"parties\")\n",
    "with open(os.path.join(datadir, \"parties.json\"), \"r\") as f:\n",
    "    parties = json.load(f)\n",
    "rest.parties.insert_many(parties)"
   ]
  },
  {
   "cell_type": "code",
   "execution_count": 101,
   "metadata": {
    "collapsed": false
   },
   "outputs": [
    {
     "data": {
      "text/plain": [
       "<pymongo.results.InsertManyResult at 0x7f8066759e10>"
      ]
     },
     "execution_count": 101,
     "metadata": {},
     "output_type": "execute_result"
    }
   ],
   "source": [
    "rest.drop_collection(\"service\")\n",
    "with open(os.path.join(datadir, \"service.json\"), \"r\") as f:\n",
    "    service = json.load(f)\n",
    "rest.service.insert_many(service)\n",
    "rest.service.create_indexes([eIdIndex])"
   ]
  },
  {
   "cell_type": "code",
   "execution_count": 289,
   "metadata": {
    "collapsed": false
   },
   "outputs": [
    {
     "data": {
      "text/plain": [
       "<pymongo.results.InsertManyResult at 0x7f80667a2af8>"
      ]
     },
     "execution_count": 289,
     "metadata": {},
     "output_type": "execute_result"
    }
   ],
   "source": [
    "rest.drop_collection(\"cabinets1\")\n",
    "rest.drop_collection(\"cabinets\")\n",
    "with open(os.path.join(datadir, \"government_members.json\"), \"r\") as f:\n",
    "    cabinets = json.load(f)\n",
    "rest.cabinets1.insert_many(cabinets)\n",
    "rest.cabinets.create_indexes([eIdIndex])"
   ]
  },
  {
   "cell_type": "code",
   "execution_count": 291,
   "metadata": {
    "collapsed": false
   },
   "outputs": [],
   "source": [
    "for c in rest.cabinets1.aggregate([\n",
    "                                   {\"$unwind\": \"$cabinets\"}, \n",
    "                                    {\"$sort\": {\"cabinets.start\": 1}},\n",
    "                                   \n",
    "                                     ]):\n",
    "    cab = c['cabinets']\n",
    "    cabinet_uri = cab['cabinet'].split(\"ie/oireachtas\")[-1]\n",
    "    dateRange = {\"start\": cab['start'], \"end\": cab['end']}\n",
    "    officeName = {\"showAs\": c['office'], \"uri\": \"/office\"+ c['uri']}\n",
    "    eId = c['eId'] + cabinet_uri.split(\"/cabinet\")[-1]\n",
    "    office = {\"cabinet\": {\"uri\": cabinet_uri, \"showAs\": \"\"},\n",
    "             \"dateRange\": dateRange,\n",
    "             \"officeName\": officeName,\n",
    "             \"eId\": eId}\n",
    "    rest.cabinets.insert_one(office)"
   ]
  },
  {
   "cell_type": "code",
   "execution_count": 187,
   "metadata": {
    "collapsed": false
   },
   "outputs": [
    {
     "data": {
      "text/plain": [
       "['uri_index']"
      ]
     },
     "execution_count": 187,
     "metadata": {},
     "output_type": "execute_result"
    }
   ],
   "source": [
    "for p in rest.parties.find():\n",
    "    wikiParty = p['party']\n",
    "    party_uri = p['house'].replace(\"house\", \"party\") + \"/\" + p['oir_party']\n",
    "    showAs = p['oir_party'].replace(\"_\", \" \")\n",
    "    partyName = {\"uri\": party_uri, \"showAs\": showAs}\n",
    "    dateRange = {\"start\": p['start'], \"end\": p['end']}\n",
    "    rest.parties.update_one({\"_id\": p[\"_id\"]}, {\"$set\": {\"partyName\": partyName,\n",
    "                                               \"dateRange\": dateRange,\n",
    "                                               \"wikiParty\": wikiParty}})\n",
    "rest.parties.create_indexes([uriIndex])"
   ]
  },
  {
   "cell_type": "code",
   "execution_count": 173,
   "metadata": {
    "collapsed": false
   },
   "outputs": [],
   "source": [
    "for s in rest.service.find():\n",
    "    represents = []\n",
    "    for c in s['constURI']:\n",
    "        \n",
    "        if not c.startswith(\"/\"):\n",
    "            c = \"/\"+c\n",
    "        if c.startswith(\"/house/dail\"):\n",
    "            showAs = cons[c.split(\"/\")[-1]]\n",
    "        else:\n",
    "            showAs = cons[c.split(\"/\")[-1]].replace(\"-\", \" \")\n",
    "        represents.append({\"represent\": {\"uri\": c, \"showAs\": showAs}})\n",
    "    uri = re.sub(\"(dail|seanad)\\.\", \"\\g<1>/\", s['serviceURI'])\n",
    "    dateRange = {\"start\": s['periodStart'], \"end\": s['periodEnd']}\n",
    "    house_name = db.oireachtas.wikiHouses.find_one({\"_id\":s['houseURI']})['houseName']\n",
    "    house = {\"uri\": s['houseURI'], \"showAs\": house_name}\n",
    "    rest.service.update_one({\"_id\":s['_id']}, {\"$set\":{\"uri\": uri, \n",
    "                                                       \"dateRange\": dateRange, \n",
    "                                                       \"house\": house,\n",
    "                                                      \"represents\": represents}})"
   ]
  },
  {
   "cell_type": "code",
   "execution_count": 302,
   "metadata": {
    "collapsed": false
   },
   "outputs": [],
   "source": [
    "for s in rest.service.find():\n",
    "    parties = rest.parties.find({\"uri\": s['uri']}, {\"_id\": 0, \n",
    "                                                    \"partyName\": 1, \n",
    "                                                    \"dateRange\": 1} ).sort(\"dateRange.start\", 1)\n",
    "    offices = rest.cabinets.find({\"eId\": s['uri']}, {\"_id\": 0, \"eId\": 0} ).sort(\"dateRange.start\", 1)\n",
    "    rest.service.update_one({\"_id\": s['_id']}, \n",
    "                            {\"$set\": {\"parties\": [{\"party\": p} for p in parties], \n",
    "                                      \"offices\": [{\"office\": p} for p in offices]}})"
   ]
  },
  {
   "cell_type": "code",
   "execution_count": 336,
   "metadata": {
    "collapsed": false
   },
   "outputs": [],
   "source": [
    "for m in rest.members.find():\n",
    "    services = rest.service.find({\"eId\": m['uri']}, \n",
    "                                  {\"_id\": 0,\n",
    "                                   \"uri\": 1,\n",
    "                                   \"house\": 1,\n",
    "                                  \"offices\": 1,\n",
    "                                  \"parties\": 1,\n",
    "                                  \"represents\": 1\n",
    "                                  }).sort(\"dateRange.start\", 1)\n",
    "    rest.members.update_one({\"_id\": m['_id']}, {\"$set\": {\"memberships\": [{\"membership\": s} for s in services]}})"
   ]
  },
  {
   "cell_type": "code",
   "execution_count": 392,
   "metadata": {
    "collapsed": false
   },
   "outputs": [],
   "source": [
    "for member in rest.members.find():\n",
    "    for m in member['memberships']:\n",
    "        for o in m['membership']['offices']:\n",
    "            o['office']['cabinet']['showAs'] = \"Government of the \" + m['membership']['house']['showAs']\n",
    "    \n",
    "    rest.members.update_one({\"_id\": member['_id']}, {\"$set\": {\"memberships\": member['memberships']}})   \n",
    "  "
   ]
  },
  {
   "cell_type": "code",
   "execution_count": 372,
   "metadata": {
    "collapsed": false
   },
   "outputs": [
    {
     "name": "stdout",
     "output_type": "stream",
     "text": [
      "{'image': 'http://www.oireachtas.ie//MembersImages/141.jpg',\n",
      " 'memberships': [{'membership': {'house': {'showAs': '24th Dáil',\n",
      "                                           'uri': '/house/dail/24'},\n",
      "                                 'offices': [{'office': {'cabinet': {'showAs': '',\n",
      "                                                                     'uri': '/cabinet/dail/24'},\n",
      "                                                         'dateRange': {'end': '1987-03-10',\n",
      "                                                                       'start': '1986-02-19'},\n",
      "                                                         'officeName': {'showAs': 'Minister '\n",
      "                                                                                  'for '\n",
      "                                                                                  'Industry '\n",
      "                                                                                  'and '\n",
      "                                                                                  'Commerce',\n",
      "                                                                        'uri': '/office/minister/industry__commerce'}}}],\n",
      "                                 'parties': [{'party': {'dateRange': {'end': '1987-01-21',\n",
      "                                                                      'start': '1982-11-24'},\n",
      "                                                        'partyName': {'showAs': 'Fine '\n",
      "                                                                                'Gael',\n",
      "                                                                      'uri': '/party/dail/24/Fine_Gael'}}}],\n",
      "                                 'represents': [{'represent': {'showAs': 'Limerick '\n",
      "                                                                         'East',\n",
      "                                                               'uri': '/house/dail/24/constituency/Limerick-East'}}],\n",
      "                                 'uri': '/member/Michael-Noonan.D.1981-06-30/dail/24'}}],\n",
      " 'showAs': 'Mr. Michael Noonan',\n",
      " 'uri': '/member/Michael-Noonan.D.1981-06-30'}\n"
     ]
    }
   ],
   "source": [
    "date = \"1986-03-01\"\n",
    "m = rest.members.find_one({ 'fullName': 'Michael Noonan',\n",
    "                    \"memberships.membership.offices.office.dateRange.start\": {\"$lte\": date},\n",
    "                   \"memberships.membership.offices.office.dateRange.end\": {\"$gte\": date}},\n",
    "                 {\"_id\": 0, \n",
    "                  \"uri\": 1,\n",
    "                  \"showAs\": 1,\n",
    "                  \"image\": 1,\n",
    "                  #\"memberships.membership.represents\": 1,\n",
    "                  \"memberships.membership.offices.$.office.dateRange\": 1})\n",
    "for p_r in [(\"parties\", \"party\"), (\"offices\", \"office\")]:\n",
    "    item = m['memberships'][0]['membership'][p_r[0]]\n",
    "    fil = [d for d in item if d[p_r[1]]['dateRange']['start'] <= date <= d[p_r[1]]['dateRange']['end']]\n",
    "    #print(fil)\n",
    "    m['memberships'][0]['membership'][p_r[0]] = fil\n",
    "pprint(m)"
   ]
  },
  {
   "cell_type": "code",
   "execution_count": 410,
   "metadata": {
    "collapsed": false
   },
   "outputs": [],
   "source": [
    "def find_members():\n",
    "    return rest.members.find({}, {\"_id\": 0,\n",
    "                            \"lastName\": 1,\n",
    "                           \"showAs\": 1,\n",
    "                           \"firstName\": 1,\n",
    "                           \"dateOfBirth\": 1,\n",
    "                           \"dateOfDeath\": 1,\n",
    "                           \"image\": 1,\n",
    "                           \"fullName\": 1,\n",
    "                           \"uri\": 1,\n",
    "                           \"memberships\": 1,\n",
    "                           \"gender\": 1,\n",
    "                           \"profession\": 1})\n",
    "with open(\"members_service.json\", \"w\") as f:\n",
    "    json.dump([m for m in find_members()], f, indent=2, sort_keys=True)\n",
    "with open(\"members_service.xml\", \"w\") as f:\n",
    "    f.write(xmltodict.unparse({\"root\": {\"members\": [{\"member\": m} for m in find_members()]}}, pretty=True))"
   ]
  },
  {
   "cell_type": "code",
   "execution_count": null,
   "metadata": {
    "collapsed": false
   },
   "outputs": [],
   "source": [
    "chairs = [m['details'] for m in members if m['details'] and \"Chair\" in m['details']]\n",
    "for chair in chairs:    \n",
    "    ch = re.search(\"Chair[\\s\\w]+\\[[\\d\\s\\w]+\\]\", chair)  \n",
    "    print(ch.group() if ch is not None else None)"
   ]
  }
 ],
 "metadata": {
  "kernelspec": {
   "display_name": "Python 3",
   "language": "python",
   "name": "python3"
  },
  "language_info": {
   "codemirror_mode": {
    "name": "ipython",
    "version": 3
   },
   "file_extension": ".py",
   "mimetype": "text/x-python",
   "name": "python",
   "nbconvert_exporter": "python",
   "pygments_lexer": "ipython3",
   "version": "3.5.1+"
  }
 },
 "nbformat": 4,
 "nbformat_minor": 0
}
