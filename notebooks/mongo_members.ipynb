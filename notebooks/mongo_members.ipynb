{
 "cells": [
  {
   "cell_type": "code",
   "execution_count": 1,
   "metadata": {
    "collapsed": false
   },
   "outputs": [],
   "source": [
    "from IPython.display import Image\n",
    "\n",
    "import pymongo\n",
    "import requests\n",
    "import json\n",
    "import os\n",
    "import re\n",
    "import xmltodict\n",
    "from pprint import pprint"
   ]
  },
  {
   "cell_type": "code",
   "execution_count": 2,
   "metadata": {
    "collapsed": false
   },
   "outputs": [],
   "source": [
    "db = pymongo.MongoClient()\n",
    "datadir = \"https://raw.githubusercontent.com/Oireachtas/ontology/master/data\"\n",
    "rest = db.oir_rest\n",
    "base_uri = \"http://oireachtas.ie/ie/oireachtas\""
   ]
  },
  {
   "cell_type": "code",
   "execution_count": 3,
   "metadata": {
    "collapsed": false
   },
   "outputs": [],
   "source": [
    "uriIndex = pymongo.IndexModel([(\"uri\", pymongo.ASCENDING)], name=\"uri_index\")\n",
    "dateIndex = pymongo.IndexModel([(\"date\", pymongo.DESCENDING)], name=\"date_desc_index\")\n",
    "eIdIndex = pymongo.IndexModel([(\"eId\", pymongo.ASCENDING)], name=\"eId_index\")\n",
    "\n",
    "firstNameIndex = pymongo.IndexModel([(\"firstName\", pymongo.ASCENDING)], name=\"first_name_index\")\n",
    "lastNameIndex = pymongo.IndexModel([(\"lastName\", pymongo.ASCENDING)], name=\"last_name_index\")\n",
    "fullNameIndex = pymongo.IndexModel([(\"fullName\", pymongo.ASCENDING)], name=\"full_name_index\")"
   ]
  },
  {
   "cell_type": "code",
   "execution_count": 4,
   "metadata": {
    "collapsed": false
   },
   "outputs": [
    {
     "name": "stdout",
     "output_type": "stream",
     "text": [
      "1695\n",
      "True\n"
     ]
    },
    {
     "data": {
      "text/plain": [
       "['uri_index', 'first_name_index', 'last_name_index', 'full_name_index']"
      ]
     },
     "execution_count": 4,
     "metadata": {},
     "output_type": "execute_result"
    }
   ],
   "source": [
    "rest.drop_collection(\"members\")\n",
    "members = requests.get(os.path.join(datadir, \"members.json\")).json()\n",
    "print(len(members))\n",
    "for m in members:\n",
    "    m['uri'] = base_uri+m.pop(\"eId\")\n",
    "    m['dateOfBirth'] = m.pop('date_of_birth')\n",
    "    m['dateOfDeath'] = m.pop('date_of_death')\n",
    "    m['gender'] = None\n",
    "ins = rest.members.insert_many(members)\n",
    "print(ins.acknowledged)\n",
    "rest.members.create_indexes([uriIndex, firstNameIndex, lastNameIndex, fullNameIndex])"
   ]
  },
  {
   "cell_type": "code",
   "execution_count": 5,
   "metadata": {
    "collapsed": false
   },
   "outputs": [
    {
     "name": "stdout",
     "output_type": "stream",
     "text": [
      "4618\n"
     ]
    },
    {
     "data": {
      "text/plain": [
       "<pymongo.results.InsertManyResult at 0x7fe4893a9510>"
      ]
     },
     "execution_count": 5,
     "metadata": {},
     "output_type": "execute_result"
    }
   ],
   "source": [
    "rest.drop_collection(\"parties\")\n",
    "parties = requests.get(os.path.join(datadir, \"parties.json\")).json()\n",
    "print(len(parties))\n",
    "rest.parties.insert_many(parties)"
   ]
  },
  {
   "cell_type": "code",
   "execution_count": 6,
   "metadata": {
    "collapsed": false
   },
   "outputs": [
    {
     "name": "stdout",
     "output_type": "stream",
     "text": [
      "6536\n"
     ]
    },
    {
     "data": {
      "text/plain": [
       "['eId_index']"
      ]
     },
     "execution_count": 6,
     "metadata": {},
     "output_type": "execute_result"
    }
   ],
   "source": [
    "rest.drop_collection(\"service\")\n",
    "service = requests.get(os.path.join(datadir, \"service.json\")).json()\n",
    "print(len(service))\n",
    "rest.service.insert_many(service)\n",
    "rest.service.create_indexes([eIdIndex])"
   ]
  },
  {
   "cell_type": "code",
   "execution_count": 7,
   "metadata": {
    "collapsed": false
   },
   "outputs": [
    {
     "name": "stdout",
     "output_type": "stream",
     "text": [
      "643\n"
     ]
    },
    {
     "data": {
      "text/plain": [
       "['eId_index']"
      ]
     },
     "execution_count": 7,
     "metadata": {},
     "output_type": "execute_result"
    }
   ],
   "source": [
    "rest.drop_collection(\"cabinets1\")\n",
    "rest.drop_collection(\"cabinets\")\n",
    "cabinets = requests.get(os.path.join(datadir, \"government_members.json\")).json()\n",
    "print(len(cabinets))\n",
    "rest.cabinets1.insert_many(cabinets)\n",
    "rest.cabinets.create_indexes([eIdIndex])"
   ]
  },
  {
   "cell_type": "code",
   "execution_count": 8,
   "metadata": {
    "collapsed": true
   },
   "outputs": [],
   "source": [
    "constituencies = requests.get(os.path.join(datadir, \"constituencies.json\")).json()"
   ]
  },
  {
   "cell_type": "code",
   "execution_count": 9,
   "metadata": {
    "collapsed": false
   },
   "outputs": [],
   "source": [
    "for c in rest.cabinets1.aggregate([\n",
    "                                   {\"$unwind\": \"$cabinets\"}, \n",
    "                                    {\"$sort\": {\"cabinets.start\": 1}},\n",
    "                                   \n",
    "                                     ]):\n",
    "    cab = c['cabinets']\n",
    "    cabinet_uri = cab['cabinet'].split(\"ie/oireachtas\")[-1]\n",
    "    dateRange = {\"start\": cab['start'], \"end\": cab['end']}\n",
    "    officeName = {\"showAs\": c['office'], \"uri\": base_uri+\"/office\"+ c['uri']}\n",
    "    eId = base_uri+c['eId'] + cabinet_uri.split(\"/cabinet\")[-1]\n",
    "    office = {\"cabinet\": {\"uri\": base_uri+cabinet_uri, \"showAs\": \"\"},\n",
    "             \"dateRange\": dateRange,\n",
    "             \"officeName\": officeName,\n",
    "             \"eId\": eId}\n",
    "    rest.cabinets.insert_one(office)"
   ]
  },
  {
   "cell_type": "code",
   "execution_count": 10,
   "metadata": {
    "collapsed": false
   },
   "outputs": [
    {
     "data": {
      "text/plain": [
       "{'_id': ObjectId('57b32913a59f5b40f8dbba41'),\n",
       " 'cabinet': {'showAs': '',\n",
       "  'uri': 'http://oireachtas.ie/ie/oireachtas/cabinet/dail/1'},\n",
       " 'dateRange': {'end': '1921-08-16', 'start': '1919-01-22'},\n",
       " 'eId': 'http://oireachtas.ie/ie/oireachtas/member/George-Noble-Plunkett.D.1919-01-21/dail/1',\n",
       " 'officeName': {'showAs': 'Minister for Foreign Affairs',\n",
       "  'uri': 'http://oireachtas.ie/ie/oireachtas/office/minister/foreign_affairs'}}"
      ]
     },
     "execution_count": 10,
     "metadata": {},
     "output_type": "execute_result"
    }
   ],
   "source": [
    "rest.cabinets.find_one()"
   ]
  },
  {
   "cell_type": "code",
   "execution_count": 11,
   "metadata": {
    "collapsed": false
   },
   "outputs": [
    {
     "data": {
      "text/plain": [
       "['uri_index']"
      ]
     },
     "execution_count": 11,
     "metadata": {},
     "output_type": "execute_result"
    }
   ],
   "source": [
    "for p in rest.parties.find():\n",
    "    wikiParty = p['party']\n",
    "    party_uri = base_uri+p['house'].replace(\"house\", \"party\") + \"/\" + p['oir_party']\n",
    "    showAs = p['oir_party'].replace(\"_\", \" \")\n",
    "    #partyName = {\"uri\": party_uri, \"showAs\": showAs}\n",
    "    dateRange = {\"start\": p['start'], \"end\": p['end']}\n",
    "    rest.parties.update_one({\"_id\": p[\"_id\"]}, {\"$set\": {\"showAs\": showAs,\n",
    "                                                         \"eId\": base_uri+p['uri'],\n",
    "                                                         \"uri\": party_uri,\n",
    "                                                       \"dateRange\": dateRange,\n",
    "                                                         \"house\": base_uri+p['house'],\n",
    "                                                         \"member\": base_uri+p['member'],\n",
    "                                                       \"wikiParty\": wikiParty}})\n",
    "rest.parties.create_indexes([uriIndex])"
   ]
  },
  {
   "cell_type": "code",
   "execution_count": 12,
   "metadata": {
    "collapsed": false
   },
   "outputs": [
    {
     "data": {
      "text/plain": [
       "{'_id': ObjectId('57b32908a59f5b40f8db8c2c'),\n",
       " 'dateRange': {'end': '1922-06-16', 'start': '1921-05-24'},\n",
       " 'eId': 'http://oireachtas.ie/ie/oireachtas/member/Edward-Aylward.D.1921-08-16/dail/2',\n",
       " 'end': '1922-06-16',\n",
       " 'house': 'http://oireachtas.ie/ie/oireachtas/house/dail/2',\n",
       " 'member': 'http://oireachtas.ie/ie/oireachtas/member/Edward-Aylward.D.1921-08-16',\n",
       " 'oir_party': 'Sinn_Féin',\n",
       " 'party': 'Sinn_Féin',\n",
       " 'showAs': 'Sinn Féin',\n",
       " 'start': '1921-05-24',\n",
       " 'uri': 'http://oireachtas.ie/ie/oireachtas/party/dail/2/Sinn_Féin',\n",
       " 'wikiParty': 'Sinn_Féin'}"
      ]
     },
     "execution_count": 12,
     "metadata": {},
     "output_type": "execute_result"
    }
   ],
   "source": [
    "rest.parties.find_one()"
   ]
  },
  {
   "cell_type": "code",
   "execution_count": 13,
   "metadata": {
    "collapsed": false
   },
   "outputs": [],
   "source": [
    "for s in rest.service.find():\n",
    "    represents = []\n",
    "    for c in s['constURI']:\n",
    "        \n",
    "        if not c.startswith(\"/\"):\n",
    "            c = \"/\"+c\n",
    "        if c.startswith(\"/house/dail\"):\n",
    "            showAs = constituencies[c.split(\"/\")[-1]]\n",
    "        else:\n",
    "            showAs = constituencies[c.split(\"/\")[-1]].replace(\"-\", \" \")\n",
    "        represents.append({\"represent\": {\"uri\": base_uri+c, \"showAs\": showAs}})\n",
    "    uri = base_uri+re.sub(\"(dail|seanad)\\.\", \"\\g<1>/\", s['serviceURI'])\n",
    "    dateRange = {\"start\": s['periodStart'], \"end\": s['periodEnd']}\n",
    "    house_name = db.oireachtas.wikiHouses.find_one({\"_id\":s['houseURI']})['houseName']\n",
    "    house = {\"uri\": base_uri+s['houseURI'], \"showAs\": house_name}\n",
    "    rest.service.update_one({\"_id\":s['_id']}, {\"$set\":{\"uri\": uri,\n",
    "                                                       \"eId\": base_uri+s['eId'],\n",
    "                                                       \"dateRange\": dateRange, \n",
    "                                                       \"house\": house,\n",
    "                                                      \"represents\": represents}})"
   ]
  },
  {
   "cell_type": "code",
   "execution_count": 14,
   "metadata": {
    "collapsed": false
   },
   "outputs": [],
   "source": [
    "for s in rest.service.find():\n",
    "    parties = rest.parties.find({\"eId\": s['uri']}, {\"_id\": 0, \n",
    "                                                    \"showAs\": 1,\n",
    "                                                    \"uri\": 1,\n",
    "                                                    \"dateRange\": 1} ).sort(\"dateRange.start\", 1)\n",
    "    offices = rest.cabinets.find({\"eId\": s['uri']}, {\"_id\": 0, \"eId\": 0} ).sort(\"dateRange.start\", 1)\n",
    "    rest.service.update_one({\"_id\": s['_id']}, \n",
    "                            {\"$set\": {\"parties\": [{\"party\": p} for p in parties], \n",
    "                                      \"offices\": [{\"office\": p} for p in offices]}})"
   ]
  },
  {
   "cell_type": "code",
   "execution_count": 15,
   "metadata": {
    "collapsed": false
   },
   "outputs": [
    {
     "data": {
      "text/plain": [
       "{'_id': ObjectId('57b3290ca59f5b40f8db9e37'),\n",
       " 'constURI': ['house/dail/3/constituency/Cork-Mid-North-South-South-East-and-West'],\n",
       " 'dateRange': {'end': '1923-08-09', 'start': '1922-09-09'},\n",
       " 'eId': 'http://oireachtas.ie/ie/oireachtas/member/Daniel-Corkery.D.1921-08-16',\n",
       " 'elected': '1922-06-16',\n",
       " 'house': {'showAs': '3rd Dáil',\n",
       "  'uri': 'http://oireachtas.ie/ie/oireachtas/house/dail/3'},\n",
       " 'houseURI': '/house/dail/3',\n",
       " 'offices': [],\n",
       " 'parties': [{'party': {'dateRange': {'end': '1923-08-09',\n",
       "     'start': '1922-06-16'},\n",
       "    'showAs': 'Sinn Féin',\n",
       "    'uri': 'http://oireachtas.ie/ie/oireachtas/party/dail/3/Sinn_Féin'}}],\n",
       " 'periodEnd': '1923-08-09',\n",
       " 'periodStart': '1922-09-09',\n",
       " 'represents': [{'represent': {'showAs': 'Cork Mid, North, South, South East and West',\n",
       "    'uri': 'http://oireachtas.ie/ie/oireachtas/house/dail/3/constituency/Cork-Mid-North-South-South-East-and-West'}}],\n",
       " 'serviceURI': '/member/Daniel-Corkery.D.1921-08-16/dail.3',\n",
       " 'uri': 'http://oireachtas.ie/ie/oireachtas/member/Daniel-Corkery.D.1921-08-16/dail/3'}"
      ]
     },
     "execution_count": 15,
     "metadata": {},
     "output_type": "execute_result"
    }
   ],
   "source": [
    "rest.service.find_one({\"parties\": {\"$size\": 1}})"
   ]
  },
  {
   "cell_type": "code",
   "execution_count": 16,
   "metadata": {
    "collapsed": false
   },
   "outputs": [],
   "source": [
    "for m in rest.members.find():\n",
    "    services = rest.service.find({\"eId\": m['uri']}, \n",
    "                                  {\"_id\": 0,\n",
    "                                   \"uri\": 1,\n",
    "                                   \"house\": 1,\n",
    "                                  \"offices\": 1,\n",
    "                                  \"parties\": 1,\n",
    "                                  \"represents\": 1,\n",
    "                                   \"dateRange\": 1\n",
    "                                  }).sort(\"dateRange.start\", 1)\n",
    "    rest.members.update_one({\"_id\": m['_id']}, {\"$set\": {\"memberships\": [{\"membership\": s} for s in services]}})"
   ]
  },
  {
   "cell_type": "code",
   "execution_count": 17,
   "metadata": {
    "collapsed": false
   },
   "outputs": [],
   "source": [
    "for member in rest.members.find():\n",
    "    for m in member['memberships']:\n",
    "        for o in m['membership']['offices']:\n",
    "            o['office']['cabinet']['showAs'] = \"Government of the \" + m['membership']['house']['showAs']\n",
    "    \n",
    "    rest.members.update_one({\"_id\": member['_id']}, {\"$set\": {\"memberships\": member['memberships']}})   \n",
    "  "
   ]
  },
  {
   "cell_type": "code",
   "execution_count": 18,
   "metadata": {
    "collapsed": false
   },
   "outputs": [
    {
     "name": "stdout",
     "output_type": "stream",
     "text": [
      "{'image': 'http://www.oireachtas.ie//MembersImages/141.jpg',\n",
      " 'memberships': [{'membership': {'dateRange': {'end': '1987-01-21',\n",
      "                                               'start': '1982-12-14'},\n",
      "                                 'house': {'showAs': '24th Dáil',\n",
      "                                           'uri': 'http://oireachtas.ie/ie/oireachtas/house/dail/24'},\n",
      "                                 'offices': [{'office': {'cabinet': {'showAs': 'Government '\n",
      "                                                                               'of '\n",
      "                                                                               'the '\n",
      "                                                                               '24th '\n",
      "                                                                               'Dáil',\n",
      "                                                                     'uri': 'http://oireachtas.ie/ie/oireachtas/cabinet/dail/24'},\n",
      "                                                         'dateRange': {'end': '1987-03-10',\n",
      "                                                                       'start': '1986-02-19'},\n",
      "                                                         'officeName': {'showAs': 'Minister '\n",
      "                                                                                  'for '\n",
      "                                                                                  'Industry '\n",
      "                                                                                  'and '\n",
      "                                                                                  'Commerce',\n",
      "                                                                        'uri': 'http://oireachtas.ie/ie/oireachtas/office/minister/industry__commerce'}}}],\n",
      "                                 'parties': [{'party': {'dateRange': {'end': '1987-01-21',\n",
      "                                                                      'start': '1982-11-24'},\n",
      "                                                        'showAs': 'Fine Gael',\n",
      "                                                        'uri': 'http://oireachtas.ie/ie/oireachtas/party/dail/24/Fine_Gael'}}],\n",
      "                                 'represents': [{'represent': {'showAs': 'Limerick '\n",
      "                                                                         'East',\n",
      "                                                               'uri': 'http://oireachtas.ie/ie/oireachtas/house/dail/24/constituency/Limerick-East'}}],\n",
      "                                 'uri': 'http://oireachtas.ie/ie/oireachtas/member/Michael-Noonan.D.1981-06-30/dail/24'}}],\n",
      " 'showAs': 'Mr. Michael Noonan',\n",
      " 'uri': 'http://oireachtas.ie/ie/oireachtas/member/Michael-Noonan.D.1981-06-30'}\n"
     ]
    }
   ],
   "source": [
    "date = \"1986-03-01\"\n",
    "m = rest.members.find_one({ 'fullName': 'Michael Noonan',\n",
    "                    \"memberships.membership.offices.office.dateRange.start\": {\"$lte\": date},\n",
    "                   \"memberships.membership.offices.office.dateRange.end\": {\"$gte\": date}},\n",
    "                 {\"_id\": 0, \n",
    "                  \"uri\": 1,\n",
    "                  \"showAs\": 1,\n",
    "                  \"image\": 1,\n",
    "                  #\"memberships.membership.represents\": 1,\n",
    "                  \"memberships.membership.offices.$.office.dateRange\": 1})\n",
    "for p_r in [(\"parties\", \"party\"), (\"offices\", \"office\")]:\n",
    "    item = m['memberships'][0]['membership'][p_r[0]]\n",
    "    fil = [d for d in item if d[p_r[1]]['dateRange']['start'] <= date <= d[p_r[1]]['dateRange']['end']]\n",
    "    #print(fil)\n",
    "    m['memberships'][0]['membership'][p_r[0]] = fil\n",
    "pprint(m)"
   ]
  },
  {
   "cell_type": "code",
   "execution_count": 20,
   "metadata": {
    "collapsed": true
   },
   "outputs": [],
   "source": [
    "def find_members():\n",
    "    return rest.members.find({}, {\"_id\": 0,\n",
    "                            \"lastName\": 1,\n",
    "                           \"showAs\": 1,\n",
    "                           \"firstName\": 1,\n",
    "                           \"dateOfBirth\": 1,\n",
    "                           \"dateOfDeath\": 1,\n",
    "                           \"image\": 1,\n",
    "                           \"fullName\": 1,\n",
    "                           \"uri\": 1,\n",
    "                           \"memberships\": 1,\n",
    "                           \"gender\": 1,\n",
    "                           \"profession\": 1})"
   ]
  },
  {
   "cell_type": "code",
   "execution_count": 23,
   "metadata": {
    "collapsed": false
   },
   "outputs": [],
   "source": [
    "with open(\"../data/members_service.json\", \"w\") as f:\n",
    "    json.dump([m for m in find_members()], f, indent=2, sort_keys=True)\n",
    "with open(\"../data/members_service.xml\", \"w\") as f:\n",
    "    f.write(xmltodict.unparse({\"root\": {\"members\": [{\"member\": m} for m in find_members()]}}, pretty=True))"
   ]
  },
  {
   "cell_type": "code",
   "execution_count": null,
   "metadata": {
    "collapsed": false
   },
   "outputs": [],
   "source": [
    "chairs = [m['details'] for m in members if m['details'] and \"Chair\" in m['details']]\n",
    "for chair in chairs:    \n",
    "    ch = re.search(\"Chair[\\s\\w]+\\[[\\d\\s\\w]+\\]\", chair)  \n",
    "    print(ch.group() if ch is not None else None)"
   ]
  },
  {
   "cell_type": "code",
   "execution_count": null,
   "metadata": {
    "collapsed": true
   },
   "outputs": [],
   "source": []
  }
 ],
 "metadata": {
  "kernelspec": {
   "display_name": "Python 3",
   "language": "python",
   "name": "python3"
  },
  "language_info": {
   "codemirror_mode": {
    "name": "ipython",
    "version": 3
   },
   "file_extension": ".py",
   "mimetype": "text/x-python",
   "name": "python",
   "nbconvert_exporter": "python",
   "pygments_lexer": "ipython3",
   "version": "3.5.1+"
  }
 },
 "nbformat": 4,
 "nbformat_minor": 0
}
