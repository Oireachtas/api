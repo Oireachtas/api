{
 "cells": [
  {
   "cell_type": "code",
   "execution_count": 1,
   "metadata": {
    "collapsed": true
   },
   "outputs": [],
   "source": [
    "import json\n",
    "import pymongo\n",
    "import re\n",
    "from pprint import pprint\n",
    "from collections import OrderedDict"
   ]
  },
  {
   "cell_type": "code",
   "execution_count": 2,
   "metadata": {
    "collapsed": false
   },
   "outputs": [],
   "source": [
    "db = pymongo.MongoClient().oir_rest"
   ]
  },
  {
   "cell_type": "code",
   "execution_count": 5,
   "metadata": {
    "collapsed": false
   },
   "outputs": [],
   "source": [
    "with open(\"BillsBook.json\") as f:\n",
    "    db.actsbook.insert_many(json.load(f))"
   ]
  },
  {
   "cell_type": "code",
   "execution_count": 42,
   "metadata": {
    "collapsed": false
   },
   "outputs": [
    {
     "data": {
      "text/plain": [
       "'Actno_1'"
      ]
     },
     "execution_count": 42,
     "metadata": {},
     "output_type": "execute_result"
    }
   ],
   "source": [
    "db.actsbook.create_index([(\"Actno\", pymongo.ASCENDING)])"
   ]
  },
  {
   "cell_type": "code",
   "execution_count": 43,
   "metadata": {
    "collapsed": false
   },
   "outputs": [],
   "source": [
    "for act in db.actsbook.find({\"Actno\": {\"$exists\": True}}):\n",
    "    year = act[\"Actyear\"]\n",
    "    actNameGa = act[\"Actprefix\"].strip() + \" \" + act['ActnameIrish'].strip() +\" \" + year\n",
    "    actNameEn = act[\"Actname\"].strip() + \" Act \" + year\n",
    "    bill_uri = 'bill/' + act['Billyear'] + \"/\" + act[\"Billno\"]\n",
    "    act_uri = \"/act/\" + year + \"/\" + act[\"Actno\"]\n",
    "    \n",
    "    bill = db.billsbook.find_one({\"uri\": bill_uri})\n",
    "    try:\n",
    "        actLongEn = bill['bill_title_long_en'].replace(\"Bill entitled \", \"\")\n",
    "    except KeyError:\n",
    "        actLongEn = None     \n",
    "    try:\n",
    "        actLongGa = bill['bill_title_long_ga'].replace(\"Bille dá ngairtear \", \"\")\n",
    "    except KeyError:\n",
    "        actLongGa = None\n",
    "    act_dict = {\"shortTitle\": {\"en\": actNameEn, \"ga\": actNameGa},\n",
    "                \"longTitle\": {\"en\": actLongEn, \"ga\": actLongGa},\n",
    "               \"uri\": act_uri,\n",
    "               \"statuteBookURI\": bill['act_uri'],\n",
    "               \"dateSigned\": bill['date_signed'] if bill.get(\"date_signed\") is not None else None}    \n",
    "    db.billsbook.update_one({\"_id\": bill[\"_id\"]}, {\n",
    "                            \"$set\": {\"act\": act_dict}})"
   ]
  },
  {
   "cell_type": "code",
   "execution_count": 47,
   "metadata": {
    "collapsed": false
   },
   "outputs": [],
   "source": [
    "for bill in db.billsbook.find():\n",
    "    try:\n",
    "        billLongEn = bill['bill_title_long_en']\n",
    "    except KeyError:\n",
    "        billLongEn = None     \n",
    "    try:\n",
    "        billLongGa = bill['bill_title_long_ga']\n",
    "    except KeyError:\n",
    "        actLongGa = None\n",
    "    bill_name = {\"en\": bill['bill_title_sh_en'],\n",
    "                    \"ga\": bill['bill_title_sh_ga']}\n",
    "    \n",
    "    bill_title = {\"en\": billLongEn,\n",
    "                    \"ga\": billLongGa}\n",
    "    db.billsbook.update_one({\"_id\": bill[\"_id\"]}, {\n",
    "                            \"$set\": {\"shortTitle\": bill_name,\n",
    "                                    \"longTitle\": bill_title}})"
   ]
  },
  {
   "cell_type": "code",
   "execution_count": 49,
   "metadata": {
    "collapsed": false
   },
   "outputs": [
    {
     "data": {
      "text/plain": [
       "<pymongo.results.UpdateResult at 0x7f06dbeacf78>"
      ]
     },
     "execution_count": 49,
     "metadata": {},
     "output_type": "execute_result"
    }
   ],
   "source": [
    "db.billsbook.update_many({}, {\"$unset\": {'act_uri': \"\", \n",
    "                                         'bill_title_long_en': \"\", \n",
    "                                         'bill_title_long_ga': \"\",\n",
    "                                        'bill_title_sh_en': \"\", \n",
    "                                         'bill_title_sh_ga': \"\",\n",
    "                                        \"date_signed\": \"\"}})"
   ]
  },
  {
   "cell_type": "code",
   "execution_count": 63,
   "metadata": {
    "collapsed": false
   },
   "outputs": [],
   "source": [
    "with open(\"longtitle.txt\", \"w\") as f:\n",
    "    f.write(\"\\n\".join([t['longTitle']['ga'] for t in db.billsbook.find({\"longTitle.ga\": {\"$ne\": None}})]))"
   ]
  },
  {
   "cell_type": "code",
   "execution_count": 36,
   "metadata": {
    "collapsed": false
   },
   "outputs": [],
   "source": [
    "db.actsbook.find_one({\"Actno\": \"65\", \"Actyear\": \"2015\"})"
   ]
  },
  {
   "cell_type": "code",
   "execution_count": null,
   "metadata": {
    "collapsed": false
   },
   "outputs": [],
   "source": [
    "for d in db.billsbook.find({\"status\": 'rejected_by_referendum'}, \n",
    "                            {\"_id\": 0, \n",
    "                              \"uri\": 1, \n",
    "                              'bill_title_sh_en': 1, \n",
    "                              'events': 1}):\n",
    "    pprint(d)"
   ]
  },
  {
   "cell_type": "code",
   "execution_count": 64,
   "metadata": {
    "collapsed": true
   },
   "outputs": [],
   "source": [
    "titleGA = \"Bille dá ngairtear Acht do leasú agus do leathnú an Achta Cosanta, 1954 agus do dhéanamh socrú i dtaobh nithe gaolmhara\""
   ]
  },
  {
   "cell_type": "code",
   "execution_count": 73,
   "metadata": {
    "collapsed": false
   },
   "outputs": [],
   "source": [
    "for bill in db.billsbook.find():\n",
    "    db.billsbook.update_one({\"_id\": bill[\"_id\"]}, {\"$set\": {\"uri\": \"/\" + bill['uri']}})"
   ]
  },
  {
   "cell_type": "code",
   "execution_count": 155,
   "metadata": {
    "collapsed": false
   },
   "outputs": [],
   "source": [
    "roles = []\n",
    "for bill in db.billsbook.find({\"sponsorRole.roleURI\": {\"$regex\": \"^http.+\"}}, {\"sponsorRole\": 1}):\n",
    "    sponsors = []\n",
    "    for i, sp in enumerate(bill[\"sponsorRole\"]):\n",
    "        if sp.get(\"roleURI\") is not None:\n",
    "            if \"minister\" in sp['roleURI']:\n",
    "                roleURI = sp['roleURI'].split(\"/\")[-2:]\n",
    "                member_uri = \"/\" + \"/\".join(sp['roleURI'].split(\"/\")[3:-5])\n",
    "            elif \"president\" in sp['roleURI']:\n",
    "                roleURI = sp['roleURI'].split(\"/\")[-1].split(\"_\")\n",
    "                memberURI = \"/\" + \"/\".join(sp['roleURI'].split(\"/\")[3:-4])\n",
    "            else:\n",
    "                roleURI = None\n",
    "            office_uri = \"/office/{}/{}\".format(roleURI[0], roleURI[1]) if roleURI is not None else None\n",
    "            _as = {\"showAs\": None, \"uri\": office_uri}\n",
    "            \n",
    "            by = {\"showAs\": None, \"uri\": member_uri}\n",
    "            sponsors.append({\"sponsor\": {\"by\": by, \"as\": _as}})\n",
    "        else:\n",
    "            pass    \n",
    "    db.billsbook.update_one({\"_id\": bill['_id']}, {\"$set\": {\"sponsors\": sponsors}})"
   ]
  },
  {
   "cell_type": "code",
   "execution_count": null,
   "metadata": {
    "collapsed": true
   },
   "outputs": [],
   "source": [
    "db.billsbook.update_many({}, {\"$unset\": {\"sponsorRole\": \"\"}})"
   ]
  },
  {
   "cell_type": "code",
   "execution_count": 153,
   "metadata": {
    "collapsed": false
   },
   "outputs": [
    {
     "data": {
      "text/plain": [
       "{'Government', 'Private Member', 'Private Sponsor'}"
      ]
     },
     "execution_count": 153,
     "metadata": {},
     "output_type": "execute_result"
    }
   ],
   "source": [
    "set(b['source'] for b in db.billsbook.find())"
   ]
  },
  {
   "cell_type": "code",
   "execution_count": 475,
   "metadata": {
    "collapsed": false
   },
   "outputs": [
    {
     "data": {
      "text/plain": [
       "34887"
      ]
     },
     "execution_count": 475,
     "metadata": {},
     "output_type": "execute_result"
    }
   ],
   "source": [
    "#{\"events.status\": \"lapsed\", \"act\": {\"$ne\": None}}\n",
    "\n",
    "def house_and_stage(uri):\n",
    "    stage_name = re.search(\"(withdrawn|deemed|lapsed|restored|finance_res)\", uri)\n",
    "    if stage_name is None:\n",
    "        stage_name = re.search(\"bill/\\d{4}/\\w?\\d+/(?:dail/|seanad/)(\\d|)\", uri)\n",
    "    #if stage_name is None:\n",
    "    #    stage_name = re.search(\"()\", uri)\n",
    "    stage_name = stages[stage_name.group(1)] if stage_name is not None else None\n",
    "    house = re.search(\"dail|seanad\", uri)\n",
    "    if house is not None:\n",
    "        house_name = stages[house.group()] \n",
    "        house_uri = \"/house/\"+house.group()\n",
    "    else:\n",
    "        house_name, house_uri = None, None\n",
    "        \n",
    "    return stage_name, house_name, house_uri\n",
    "    \n",
    "\n",
    "def event_dict(progress, date, uri):\n",
    "    stage_name, house_name, house_uri = house_and_stage(uri)\n",
    "    return {\"stagesEntered\": progress,\n",
    "            \"dates\": [{\"date\": date}],\n",
    "           \"isStage\": True,\n",
    "           \"happenedOn\": progress,\n",
    "           \"uri\": uri,\n",
    "            \"showAs\": stage_name,\n",
    "            \"chamber\": {\"uri\": house_uri, \"showAs\": house_name}\n",
    "                       }\n",
    "\n",
    "eventup = []\n",
    "bills = db.billsbook.find() #.limit(500)\n",
    "for bill in bills:\n",
    "    stage_dict = OrderedDict()\n",
    "    progress = 0\n",
    "    for event in bill['events']:\n",
    "        event['uri'] = \"/\" + event['uri'] if not event['uri'].startswith(\"/\") else event['uri']\n",
    "        if event['status'] == \"stage\":                               \n",
    "            if event['uri'] not in stage_dict:\n",
    "                progress += 1\n",
    "                \n",
    "                stage_dict[event['uri']] = event_dict(progress, event['date'], event['uri'])                                          \n",
    "            else:\n",
    "                stage_dict[event['uri']]['dates'].append({\"date\": event['date']})\n",
    "        else:\n",
    "            stage_dict[event['uri']] = event_dict(progress, event['date'], event['uri'])\n",
    "            stage_dict[event['uri']]['isStage'] = False\n",
    "    events = [{\"event\": stage_dict[k]} for k in stage_dict]\n",
    "    eventup.append(events)\n",
    "    db.billsbook.update_one({\"_id\": bill[\"_id\"]}, {\"$set\": {\"billEvents\": events}})\n",
    "    \n",
    "sum(len(s) for s in eventup)"
   ]
  },
  {
   "cell_type": "code",
   "execution_count": 468,
   "metadata": {
    "collapsed": false
   },
   "outputs": [
    {
     "data": {
      "text/plain": [
       "34886"
      ]
     },
     "execution_count": 468,
     "metadata": {},
     "output_type": "execute_result"
    }
   ],
   "source": [
    "non_stages = [(e[\"showAs\"], e['chamber']['showAs']) for bill in eventup for e in bill if e['showAs'] is not None]\n",
    "len(non_stages)"
   ]
  },
  {
   "cell_type": "code",
   "execution_count": 494,
   "metadata": {
    "collapsed": false
   },
   "outputs": [],
   "source": [
    "bills = db.billsbook.find({\"status\": \"enacted\"})\n",
    "too_short = [[[e['event']['uri'], e['event']['stagesEntered']] for e in b['billEvents']] for b in bills if len(b.get(\"billEvents\")) > 0 and b['billEvents'][-1]['event'][\"stagesEntered\"] < 9]"
   ]
  },
  {
   "cell_type": "code",
   "execution_count": 509,
   "metadata": {
    "collapsed": false
   },
   "outputs": [],
   "source": [
    "bill = db.billsbook.find_one({\"uri\": \"/bill/2012/34\"}, {\"events\": 0, \"_id\": 0})\n",
    "bill['versions'] = [{\"version\": {\"showAs\": \"As Initiated\",\n",
    "                                 \"stages\": [{\"stage\": {\"uri\": \"/bill/2012/34/dail/1\",\n",
    "                                                      \"showAs\": \"First Stage\",\n",
    "                                                      'chamber': {'showAs': 'Dáil', 'uri': '/house/dail'}}},\n",
    "                                           {\"stage\": {\"uri\": \"/bill/2012/34/dail/2\",\n",
    "                                                      \"showAs\": \"Second Stage\",\n",
    "                                                      'chamber': {'showAs': 'Dáil', 'uri': '/house/dail'}}}],\n",
    "                                \"uri\": \"/bill/2012/34/eng@initiated\", \n",
    "                                \"formats\": [{\"content-type\": \"text+xml\",\n",
    "                                            \"uri\": \"/bill/2012/34/eng@initiated.xml\"},\n",
    "                                           {\"content-type\": \"application+pdf\",\n",
    "                                           \"uri\": \"/bill/2012/34/eng@initiated.pdf\"}]}}]\n",
    "bill['amendmentLists'] = [{\"amendmentList\": {\"stage\": {\"uri\": \"/bill/2012/34/dail/3\",\n",
    "                                                      \"showAs\": \"Committee Stage\",\n",
    "                                                      'chamber': {'showAs': 'Dáil', 'uri': '/house/dail'}}},\n",
    "                                           \n",
    "                                            \"uri\": \"/bill/2012/34/dail/3/amendmentList/@eng\", \n",
    "                                            \"formats\": [{\"content-type\": \"text+xml\",\n",
    "                                                        \"uri\": \"/bill/2012/34/dail/3/amendmentList/@eng.xml\"},\n",
    "                                                       {\"content-type\": \"application+pdf\",\n",
    "                                                       \"uri\": \"/bill/2012/34/dail/3/amendmentList/@eng.pdf\"}]                          \n",
    "                          }]\n",
    "with open(\"sample-bill-medata.json\", \"w\") as f:\n",
    "    json.dump(bill, f, indent=2, sort_keys=True)"
   ]
  },
  {
   "cell_type": "code",
   "execution_count": 439,
   "metadata": {
    "collapsed": true
   },
   "outputs": [],
   "source": [
    "stages = {\"1\": \"First Stage\",\n",
    "         \"2\": \"Second Stage\",\n",
    "         \"3\": \"Third Stage\",\n",
    "         \"4\": \"Fourth Stage\",\n",
    "         \"5\": \"Fifth Stage\",\n",
    "         \"dail\": \"Dáil\",\n",
    "         \"seanad\": \"Seanad\",\n",
    "         \"deemed\": \"Deemed to have Passed\",\n",
    "         'financial-resolution': \"Financial Resolutions\",\n",
    "          'finance_res': \"Financial Resolutions\", \n",
    "          'lapsed': \"Lapsed\", \n",
    "          'rejected': \"Defeated or Rejected\", \n",
    "          'restored': \"Restored to the Order Paper\",\n",
    "         'withdrawn': \"Withdrawn\",\n",
    "         '2_ord': \"Order for Second Stage\",\n",
    "          '3_ord': \"Order for Committee Stage\",\n",
    "          '4_ord': \"Order for Report Stage\",\n",
    "         \"seanad_amd\": \"Seanad Amendments\"}"
   ]
  },
  {
   "cell_type": "code",
   "execution_count": 6,
   "metadata": {
    "collapsed": false
   },
   "outputs": [
    {
     "data": {
      "text/plain": [
       "{'act': {'dateSigned': '2014-12-25',\n",
       "  'longTitle': {'en': 'An Act to amend the Public Health (Tobacco) Act 2002 in order to prohibit the smoking of tobacco products in vehicles where children are present and to provide for the investigation and prosecution of such offences by members of an Garda Síochána',\n",
       "   'ga': 'Acht do leasú an Achta Sláinte Poiblí (Tobac), 2002 d’fhonn toirmeasc a chur le caitheamh táirgí tobac i bhfeithiclí a bhfuil leanaí i láthair iontu agus do dhéanamh socrú maidir le comhaltaí den Gharda Síochána d’imscrúdú agus d’ionchúiseamh cionta den sórt sin'},\n",
       "  'shortTitle': {'en': 'Protection of Children’s Health (Tobacco Smoke in Mechanically Propelled Vehicles) Act 2014',\n",
       "   'ga': 'An tAcht um Chosaint Sláinte Leanaí (Deatach Tobac i bhFeithiclí Inneallghluaiste), 2012 athraithe ó Chosaint Sláinte Leanaí ar Dheatach Tobac, 2014'},\n",
       "  'statuteBookURI': 'http://www.irishstatutebook.ie/eli/2014/act/40',\n",
       "  'uri': '/act/2014/40'},\n",
       " 'billEvents': [{'event': {'chamber': {'showAs': 'Seanad',\n",
       "     'uri': '/house/seanad'},\n",
       "    'dates': [{'date': '2012-05-03'}],\n",
       "    'happenedOn': 1,\n",
       "    'isStage': True,\n",
       "    'showAs': 'First Stage',\n",
       "    'stagesEntered': 1,\n",
       "    'uri': '/bill/2012/38/seanad/1'}},\n",
       "  {'event': {'chamber': {'showAs': 'Seanad', 'uri': '/house/seanad'},\n",
       "    'dates': [{'date': '2012-05-09'}],\n",
       "    'happenedOn': 2,\n",
       "    'isStage': True,\n",
       "    'showAs': 'Second Stage',\n",
       "    'stagesEntered': 2,\n",
       "    'uri': '/bill/2012/38/seanad/2'}},\n",
       "  {'event': {'chamber': {'showAs': 'Seanad', 'uri': '/house/seanad'},\n",
       "    'dates': [{'date': '2013-12-19'}],\n",
       "    'happenedOn': 3,\n",
       "    'isStage': True,\n",
       "    'showAs': 'Third Stage',\n",
       "    'stagesEntered': 3,\n",
       "    'uri': '/bill/2012/38/seanad/3'}},\n",
       "  {'event': {'chamber': {'showAs': 'Seanad', 'uri': '/house/seanad'},\n",
       "    'dates': [{'date': '2014-04-17'}],\n",
       "    'happenedOn': 4,\n",
       "    'isStage': True,\n",
       "    'showAs': 'Fourth Stage',\n",
       "    'stagesEntered': 4,\n",
       "    'uri': '/bill/2012/38/seanad/4'}},\n",
       "  {'event': {'chamber': {'showAs': 'Seanad', 'uri': '/house/seanad'},\n",
       "    'dates': [{'date': '2014-04-17'}],\n",
       "    'happenedOn': 5,\n",
       "    'isStage': True,\n",
       "    'showAs': 'Fifth Stage',\n",
       "    'stagesEntered': 5,\n",
       "    'uri': '/bill/2012/38/seanad/5'}},\n",
       "  {'event': {'chamber': {'showAs': 'Dáil', 'uri': '/house/dail'},\n",
       "    'dates': [{'date': '2014-10-08'}],\n",
       "    'happenedOn': 6,\n",
       "    'isStage': True,\n",
       "    'showAs': 'Second Stage',\n",
       "    'stagesEntered': 6,\n",
       "    'uri': '/bill/2012/38/dail/2'}},\n",
       "  {'event': {'chamber': {'showAs': 'Dáil', 'uri': '/house/dail'},\n",
       "    'dates': [{'date': '2014-12-18'}],\n",
       "    'happenedOn': 7,\n",
       "    'isStage': True,\n",
       "    'showAs': 'Fourth Stage',\n",
       "    'stagesEntered': 7,\n",
       "    'uri': '/bill/2012/38/dail/4'}},\n",
       "  {'event': {'chamber': {'showAs': 'Dáil', 'uri': '/house/dail'},\n",
       "    'dates': [{'date': '2014-12-18'}],\n",
       "    'happenedOn': 8,\n",
       "    'isStage': True,\n",
       "    'showAs': 'Fifth Stage',\n",
       "    'stagesEntered': 8,\n",
       "    'uri': '/bill/2012/38/dail/5'}}],\n",
       " 'bill_type': 'Public',\n",
       " 'longTitle': {'en': 'Bill entitled An Act to amend the Public Health (Tobacco) Act 2002 in order to prohibit the smoking of tobacco products in vehicles where children are present and to provide for the investigation and prosecution of such offences by members of an Garda Síochána',\n",
       "  'ga': 'Bille dá ngairtear Acht do leasú an Achta Sláinte Poiblí (Tobac), 2002 d’fhonn toirmeasc a chur le caitheamh táirgí tobac i bhfeithiclí a bhfuil leanaí i láthair iontu agus do dhéanamh socrú maidir le comhaltaí den Gharda Síochána d’imscrúdú agus d’ionchúiseamh cionta den sórt sin'},\n",
       " 'method': 'Introduction',\n",
       " 'shortTitle': {'en': 'Protection of Children’s Health (Tobacco Smoke in Mechanically Propelled Vehicles) Bill 2012',\n",
       "  'ga': 'An Bille um Chosaint Sláinte Leanaí (Deatach Tobac i bhFeithiclí Inneallghluaiste), 2012 athraithe ó Chosaint Sláinte Leanaí ar Dheatach Tobac 2012'},\n",
       " 'source': 'Private Member',\n",
       " 'sponsorRole': [{'member': 'John Crown',\n",
       "   'role': 'http://oireachtas.ie/member/John-Crown.S.2011-05-25/seanad/24',\n",
       "   'roleURI': 'http://oireachtas.ie/member/John-Crown.S.2011-05-25/seanad/24'},\n",
       "  {'member': 'Mark Daly',\n",
       "   'role': 'http://oireachtas.ie/member/Mark-Daly.S.2007-07-23/seanad/24',\n",
       "   'roleURI': 'http://oireachtas.ie/member/Mark-Daly.S.2007-07-23/seanad/24'},\n",
       "  {'member': 'Jillian van Turnhout',\n",
       "   'role': 'http://oireachtas.ie/member/Jillian-van-Turnhout.S.2011-05-25/seanad/24',\n",
       "   'roleURI': 'http://oireachtas.ie/member/Jillian-van-Turnhout.S.2011-05-25/seanad/24'}],\n",
       " 'sponsors': [{'sponsor': {'as': {'showAs': None, 'uri': None},\n",
       "    'by': {'showAs': None, 'uri': '/member/Eamon-Gilmore.D.1989-06-29'}}},\n",
       "  {'sponsor': {'as': {'showAs': None, 'uri': None},\n",
       "    'by': {'showAs': None, 'uri': '/member/Eamon-Gilmore.D.1989-06-29'}}},\n",
       "  {'sponsor': {'as': {'showAs': None, 'uri': None},\n",
       "    'by': {'showAs': None, 'uri': '/member/Eamon-Gilmore.D.1989-06-29'}}}],\n",
       " 'status': 'enacted',\n",
       " 'uri': '/bill/2012/38'}"
      ]
     },
     "execution_count": 6,
     "metadata": {},
     "output_type": "execute_result"
    }
   ],
   "source": [
    "db.billsbook.find_one({\"status\": \"enacted\", \"act.dateSigned\": {\"$gte\": \"2014-01-01\"}}, {\"events\": 0, \"_id\": 0})"
   ]
  },
  {
   "cell_type": "code",
   "execution_count": null,
   "metadata": {
    "collapsed": true
   },
   "outputs": [],
   "source": []
  }
 ],
 "metadata": {
  "kernelspec": {
   "display_name": "Python 3",
   "language": "python",
   "name": "python3"
  },
  "language_info": {
   "codemirror_mode": {
    "name": "ipython",
    "version": 3
   },
   "file_extension": ".py",
   "mimetype": "text/x-python",
   "name": "python",
   "nbconvert_exporter": "python",
   "pygments_lexer": "ipython3",
   "version": "3.5.1+"
  }
 },
 "nbformat": 4,
 "nbformat_minor": 0
}
