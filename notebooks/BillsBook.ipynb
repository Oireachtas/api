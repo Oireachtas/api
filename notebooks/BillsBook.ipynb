{
 "cells": [
  {
   "cell_type": "code",
   "execution_count": 243,
   "metadata": {
    "collapsed": false
   },
   "outputs": [],
   "source": [
    "from pprint import pprint\n",
    "from dateutil import parser\n",
    "import pandas as pd\n",
    "pd.set_option('display.mpl_style', 'default') \n",
    "pd.set_option('display.width', 5000) \n",
    "pd.set_option('display.max_columns', 60) \n",
    "\n",
    "#pd.figsize(15, 5)"
   ]
  },
  {
   "cell_type": "code",
   "execution_count": 121,
   "metadata": {
    "collapsed": false
   },
   "outputs": [],
   "source": [
    "with open(\"BillsBookFull.txt\", \"rb\") as f:\n",
    "    book = f.read().decode(\"utf-8\")\n"
   ]
  },
  {
   "cell_type": "code",
   "execution_count": 140,
   "metadata": {
    "collapsed": false
   },
   "outputs": [
    {
     "data": {
      "text/plain": [
       "{'$Revisions': '09/09/1996 11',\n",
       " 'AcceptDate': '1922',\n",
       " 'AllRevSponsor': 'Local Government (Minister for)',\n",
       " 'BSpons': '(Sponsored by Local Government;Minister for)',\n",
       " 'BillNameIrishMod': 'Timpeal Toghachán',\n",
       " 'BillSeqNo': '6',\n",
       " 'Billname': 'Electoral',\n",
       " 'BillnameIrish': 'Timpeal Toghachán',\n",
       " 'Billno': '6',\n",
       " 'Billprefix': 'Bille',\n",
       " 'BillprefixMod': 'Bille',\n",
       " 'Billtype': 'Public',\n",
       " 'Billyear': '1922',\n",
       " 'Bname': 'Electoral Bill, 1922',\n",
       " 'Bno': '6/22',\n",
       " 'CarrFor': 'N',\n",
       " 'Csig': 'N',\n",
       " 'DS2Amdt': 'N',\n",
       " 'DS2NoOfAmdts': '0',\n",
       " 'DS2NoOfAmdtsDec': '0',\n",
       " 'DailMethod': 'Introduced',\n",
       " 'DamendS': 'N',\n",
       " 'Deem': 'N',\n",
       " 'Def': 'N',\n",
       " 'DáilOrd2nd': 'Order for Second Stage',\n",
       " 'Esig': 'N',\n",
       " 'FRes': 'N',\n",
       " 'FResItem': 'Unknown',\n",
       " 'FResStatus': 'Unknown',\n",
       " 'House': 'Dáil',\n",
       " 'InstCttee': 'N',\n",
       " 'InstCtteeStatus': 'Unknown',\n",
       " 'IntOpp': 'N',\n",
       " 'Lapsed': 'N',\n",
       " 'MBill': 'N',\n",
       " 'MMsg': 'N',\n",
       " 'MMsgItem': 'Unknown',\n",
       " 'MMsgStatus': 'Unknown',\n",
       " 'MMsgType': 'Unknown',\n",
       " 'Method': 'Introduction',\n",
       " 'Other': 'N',\n",
       " 'PastAuthors': 'Saidbh Byrne',\n",
       " 'PastEditDates': '09/09/96 10.54.48 a.m.',\n",
       " 'Rcl': 'N',\n",
       " 'Rcte': 'N',\n",
       " 'Ref': 'N',\n",
       " 'Rej': 'N',\n",
       " 'Restored': 'N',\n",
       " 'RevSponsor': 'Local Government (Minister for)',\n",
       " 'SS2Amdt': 'N',\n",
       " 'SS2NoOfAmdts': '0',\n",
       " 'SS2NoOfAmdtsDec': '0',\n",
       " 'Sabr': 'N',\n",
       " 'SamendD': 'N',\n",
       " 'SamendDNoAmdts': '0',\n",
       " 'Sct': 'N',\n",
       " 'Source': 'Government',\n",
       " 'Sponsor': 'Minister for Local Government',\n",
       " 'Status': 'New Bill',\n",
       " 'Status_1': 'New Bill',\n",
       " 'SubTopic': 'Unknown',\n",
       " 'TimesModified': '0',\n",
       " 'Topic': 'Unknown',\n",
       " 'WithDrawn': 'N',\n",
       " '\\ufeffServer': 'OIR6'}"
      ]
     },
     "execution_count": 140,
     "metadata": {},
     "output_type": "execute_result"
    }
   ],
   "source": [
    "BillsBook = [{entry.split(\":\")[0]:entry.split(\":\")[1].strip() for entry in bill.split(\"\\r\\n\") if \":\" in entry and len(entry.split(\":\")[1].strip())>0} for bill in book.split(\"+++++++\")]\n",
    "BillsBook[0]"
   ]
  },
  {
   "cell_type": "code",
   "execution_count": 213,
   "metadata": {
    "collapsed": false
   },
   "outputs": [
    {
     "data": {
      "text/plain": [
       "(4781, 250)"
      ]
     },
     "execution_count": 213,
     "metadata": {},
     "output_type": "execute_result"
    }
   ],
   "source": [
    "#df = pd.DataFrame(BillsBook)\n",
    "df.shape"
   ]
  },
  {
   "cell_type": "code",
   "execution_count": 165,
   "metadata": {
    "collapsed": false
   },
   "outputs": [],
   "source": [
    "df.drop(df.columns[2:4], axis=1, inplace=True)"
   ]
  },
  {
   "cell_type": "code",
   "execution_count": 167,
   "metadata": {
    "collapsed": false
   },
   "outputs": [
    {
     "data": {
      "text/plain": [
       "Index(['Aname', 'Ano', 'Art23', 'BSpons', 'BillNameIrishMod',\n",
       "       'BillNameIrishMod_1', 'BillSeqNo', 'BillTitle', 'BillTitleIrish',\n",
       "       'BillYrDisp1'],\n",
       "      dtype='object')"
      ]
     },
     "execution_count": 167,
     "metadata": {},
     "output_type": "execute_result"
    }
   ],
   "source": [
    "df.columns[10:20]"
   ]
  },
  {
   "cell_type": "code",
   "execution_count": 181,
   "metadata": {
    "collapsed": false
   },
   "outputs": [
    {
     "data": {
      "text/html": [
       "<div>\n",
       "<table border=\"1\" class=\"dataframe\">\n",
       "  <thead>\n",
       "    <tr style=\"text-align: right;\">\n",
       "      <th></th>\n",
       "      <th>Actname</th>\n",
       "      <th>Art23</th>\n",
       "    </tr>\n",
       "  </thead>\n",
       "  <tbody>\n",
       "  </tbody>\n",
       "</table>\n",
       "</div>"
      ],
      "text/plain": [
       "Empty DataFrame\n",
       "Columns: [Actname, Art23]\n",
       "Index: []"
      ]
     },
     "execution_count": 181,
     "metadata": {},
     "output_type": "execute_result"
    }
   ],
   "source": [
    "df[(df['Art23'] != \"N\") & (df['Art23'].isnull() == False) ][[\"Actname\", \"Art23\"]]"
   ]
  },
  {
   "cell_type": "code",
   "execution_count": 247,
   "metadata": {
    "collapsed": false
   },
   "outputs": [
    {
     "data": {
      "text/plain": [
       "array(['AcceptDate', 'ActSeqNo', 'Actname', 'ActnameIrish', 'Actno',\n",
       "       'Actprefix', 'Actyear', 'AllDates', 'AllRevSponsor', 'AllSponsor',\n",
       "       'Aname', 'Ano', 'Art23', 'BSpons', 'BillNameIrishMod',\n",
       "       'BillNameIrishMod_1', 'BillSeqNo', 'BillTitle', 'BillTitleIrish',\n",
       "       'Billname', 'BillnameIrish', 'Billname_1', 'Billno', 'Billprefix',\n",
       "       'BillprefixMod', 'BillprefixMod_1', 'Billtype', 'Billyear', 'Bname',\n",
       "       'BnameIrish', 'Bno', 'CarrFor', 'CarrForYear', 'Comments',\n",
       "       'Committeename', 'Committeename_1', 'Csig', 'DCtteeEC', 'DCtteeref',\n",
       "       'DCtteerep', 'DECdate', 'DOS2', 'DRefdate', 'DRepdate', 'DS1',\n",
       "       'DS2', 'DS2Amdt', 'DS2AmdtDate', 'DS2AmdtDisp', 'DS2AmdtDoclink',\n",
       "       'DS2AmdtOutcome', 'DS2AmdtOutcome1', 'DS2AmdtQuestion',\n",
       "       'DS2AmdtSource', 'DS2AmdtType', 'DS2NoOfAmdts', 'DS2NoOfAmdtsDec',\n",
       "       'DS2QuestionOutcome', 'DS3', 'DS3HBER', 'DS3SA', 'DS3SA1', 'DS3SA2',\n",
       "       'DS4', 'DS4SA', 'DS4SA1', 'DS4SA2', 'DS5', 'DailMethod', 'DamendS',\n",
       "       'DateOpp', 'DateRes', 'Datesigned', 'Deem', 'DeemDate', 'Def',\n",
       "       'DefDS2DateDisp', 'DefDS2Disp', 'DefDate', 'DefHouse',\n",
       "       'DefSS2DateDisp', 'DefSS2Disp', 'DefSS5DateDisp', 'DefSS5Disp',\n",
       "       'DefStage', 'DoclinkText01', 'DáilIntDateD', 'DáilOrd2nd',\n",
       "       'EnactDisp', 'EnactDisp_1', 'Esig', 'EsigDate', 'FRes',\n",
       "       'FResDecDate', 'FResDisp', 'FResItem', 'FResOPDate', 'FResReq',\n",
       "       'FResStatus', 'House', 'InstCommitteename', 'InstCttee',\n",
       "       'InstCtteeDisp', 'InstCtteeStatus', 'InstDecDate', 'InstOPDate',\n",
       "       'IntOpp', 'IntOppDateD', 'IntOppDispD', 'LapseHouse1',\n",
       "       'LapseHouse2', 'LapseStage1', 'LapseStage2', 'LapseStages',\n",
       "       'Lapsed', 'Lapsedate1', 'Lapsedate2', 'Lapseyears', 'MBill',\n",
       "       'MBillDoclink', 'MMsg', 'MMsgDate', 'MMsgDisp', 'MMsgItem',\n",
       "       'MMsgOPDate', 'MMsgReq', 'MMsgSignatory', 'MMsgStatus', 'MMsgType',\n",
       "       'Memo', 'Method', 'MsgtoDail', 'MsgtoSeanad', 'NotWithStand',\n",
       "       'NotwithstandTopic', 'OppOutcome', 'Other', 'OtherDate',\n",
       "       'OtherDetails', 'PartyGroup', 'PastAuthors', 'PastEditDates', 'Rcl',\n",
       "       'RclCttee', 'RclDate', 'RclItem', 'RclWRT', 'Rcte', 'Ref',\n",
       "       'RefConst', 'RefConstDate', 'RefConstOutcome', 'RefConstTopic',\n",
       "       'RefOrd', 'Rej', 'RejDS2DateDisp', 'RejDS2Disp', 'RejDate',\n",
       "       'RejHouse', 'RejSS2DateDisp', 'RejSS2Disp', 'RejSS5DateDisp',\n",
       "       'RejSS5Disp', 'RejStage', 'ResOutcome', 'RestoreHouse1',\n",
       "       'RestoreHouse2', 'RestoreStage1', 'RestoreStage2', 'Restored',\n",
       "       'Restoredate1', 'Restoredate2', 'Restoreyears',\n",
       "       'RevSeanGovtSponsor', 'RevSponsor', 'Revisedbillprefix',\n",
       "       'Revisedname', 'RevisednameIrish', 'Rmtn', 'S2Amdt',\n",
       "       'S2AmdtOutcome', 'S2AmdtQuestion', 'S2AmdtSource', 'S2AmdtType',\n",
       "       'S2House', 'S2NoOfAmdts', 'S2QuestionOutcome', 'SAbrDate',\n",
       "       'SAmendDResponseDate', 'SCtteeEC', 'SCtteeref', 'SCtteerep',\n",
       "       'SECdate', 'SOS2', 'SRefdate', 'SRepdate', 'SS1', 'SS2', 'SS2Amdt',\n",
       "       'SS2AmdtOutcome', 'SS2AmdtQuestion', 'SS2AmdtSource', 'SS2AmdtType',\n",
       "       'SS2NoOfAmdts', 'SS2NoOfAmdtsDec', 'SS2QuestionOutcome', 'SS3',\n",
       "       'SS3HBER', 'SS4', 'SS4DA', 'SS4DA1', 'SS4DA2', 'SS4SA1', 'SS4SA2',\n",
       "       'SS5', 'SS5DA', 'SS5DA1', 'SS5DA2', 'Sabr', 'SamendD',\n",
       "       'SamendDDecision', 'SamendDNoAmdts', 'SamendDResponse', 'Sct',\n",
       "       'SctDeclDate', 'SctOutcome', 'SctRefDate', 'SeanGovtSponsor',\n",
       "       'SeanOrd2nd', 'SeanadMethod', 'Server', 'Source', 'Sponsor',\n",
       "       'Status', 'Status_1', 'Status_2', 'SubTopic', 'TimesModified',\n",
       "       'Topic', 'VchtoDail', 'VchtoSeanad', 'VellumtoClerk',\n",
       "       'WithDrawDate', 'WithDrawHouse', 'WithDrawMotionSource',\n",
       "       'WithDrawStage', 'WithDrawn', 'blpd', 'dsig'], dtype=object)"
      ]
     },
     "execution_count": 247,
     "metadata": {},
     "output_type": "execute_result"
    }
   ],
   "source": [
    "df.columns.values"
   ]
  },
  {
   "cell_type": "code",
   "execution_count": 211,
   "metadata": {
    "collapsed": false
   },
   "outputs": [],
   "source": [
    "df = df.filter(regex='^(?!\\ufeffServer)')"
   ]
  },
  {
   "cell_type": "code",
   "execution_count": 209,
   "metadata": {
    "collapsed": false
   },
   "outputs": [
    {
     "data": {
      "text/html": [
       "<div>\n",
       "<table border=\"1\" class=\"dataframe\">\n",
       "  <thead>\n",
       "    <tr style=\"text-align: right;\">\n",
       "      <th></th>\n",
       "      <th>http</th>\n",
       "      <th>﻿Server</th>\n",
       "    </tr>\n",
       "  </thead>\n",
       "  <tbody>\n",
       "    <tr>\n",
       "      <th>0</th>\n",
       "      <td>NaN</td>\n",
       "      <td>OIR6</td>\n",
       "    </tr>\n",
       "    <tr>\n",
       "      <th>1</th>\n",
       "      <td>NaN</td>\n",
       "      <td>NaN</td>\n",
       "    </tr>\n",
       "    <tr>\n",
       "      <th>2</th>\n",
       "      <td>NaN</td>\n",
       "      <td>NaN</td>\n",
       "    </tr>\n",
       "    <tr>\n",
       "      <th>3</th>\n",
       "      <td>NaN</td>\n",
       "      <td>NaN</td>\n",
       "    </tr>\n",
       "  </tbody>\n",
       "</table>\n",
       "</div>"
      ],
      "text/plain": [
       "  http ﻿Server\n",
       "0  NaN    OIR6\n",
       "1  NaN     NaN\n",
       "2  NaN     NaN\n",
       "3  NaN     NaN"
      ]
     },
     "execution_count": 209,
     "metadata": {},
     "output_type": "execute_result"
    }
   ],
   "source": [
    "df[['http', '\\ufeffServer']][:4]"
   ]
  },
  {
   "cell_type": "code",
   "execution_count": 231,
   "metadata": {
    "collapsed": false
   },
   "outputs": [
    {
     "data": {
      "text/html": [
       "<div>\n",
       "<table border=\"1\" class=\"dataframe\">\n",
       "  <thead>\n",
       "    <tr style=\"text-align: right;\">\n",
       "      <th></th>\n",
       "      <th>Aname</th>\n",
       "      <th>Actname</th>\n",
       "      <th>Actprefix</th>\n",
       "      <th>Actyear</th>\n",
       "      <th>AllDates</th>\n",
       "    </tr>\n",
       "  </thead>\n",
       "  <tbody>\n",
       "    <tr>\n",
       "      <th>1</th>\n",
       "      <td>Expiring Laws Act , 1922</td>\n",
       "      <td>Expiring Laws</td>\n",
       "      <td>Acht</td>\n",
       "      <td>1922</td>\n",
       "      <td>NaN</td>\n",
       "    </tr>\n",
       "    <tr>\n",
       "      <th>2</th>\n",
       "      <td>Appropriation Act , 1922</td>\n",
       "      <td>Appropriation</td>\n",
       "      <td>Acht</td>\n",
       "      <td>1922</td>\n",
       "      <td>NaN</td>\n",
       "    </tr>\n",
       "    <tr>\n",
       "      <th>4</th>\n",
       "      <td>Adaptation of Enactments Act , 1922</td>\n",
       "      <td>Adaptation of Enactments</td>\n",
       "      <td>Acht</td>\n",
       "      <td>1922</td>\n",
       "      <td>NaN</td>\n",
       "    </tr>\n",
       "    <tr>\n",
       "      <th>6</th>\n",
       "      <td>Local Elections Postponement Act , 1922</td>\n",
       "      <td>Local Elections Postponement</td>\n",
       "      <td>Acht</td>\n",
       "      <td>1922</td>\n",
       "      <td>NaN</td>\n",
       "    </tr>\n",
       "  </tbody>\n",
       "</table>\n",
       "</div>"
      ],
      "text/plain": [
       "                                     Aname                       Actname  \\\n",
       "1                 Expiring Laws Act , 1922                 Expiring Laws   \n",
       "2                 Appropriation Act , 1922                 Appropriation   \n",
       "4      Adaptation of Enactments Act , 1922      Adaptation of Enactments   \n",
       "6  Local Elections Postponement Act , 1922  Local Elections Postponement   \n",
       "\n",
       "  Actprefix Actyear AllDates  \n",
       "1      Acht    1922      NaN  \n",
       "2      Acht    1922      NaN  \n",
       "4      Acht    1922      NaN  \n",
       "6      Acht    1922      NaN  "
      ]
     },
     "execution_count": 231,
     "metadata": {},
     "output_type": "execute_result"
    }
   ],
   "source": [
    "df[df['Actname'].isnull()==False][['Aname', 'Actname', 'Actprefix', 'Actyear', 'AllDates']][:4]"
   ]
  },
  {
   "cell_type": "code",
   "execution_count": 241,
   "metadata": {
    "collapsed": false
   },
   "outputs": [
    {
     "data": {
      "text/plain": [
       "<matplotlib.axes._subplots.AxesSubplot at 0x22d72810>"
      ]
     },
     "execution_count": 241,
     "metadata": {},
     "output_type": "execute_result"
    }
   ],
   "source": [
    "counts = df['Actname'].value_counts()[:30]\n",
    "counts.plot(kind='bar')"
   ]
  },
  {
   "cell_type": "code",
   "execution_count": 245,
   "metadata": {
    "collapsed": false
   },
   "outputs": [],
   "source": [
    "df.loc([df['Aname'].isnull()==False])['ActName'] = \"{} Act {}\".format(df['Actname'], df['Actyear'])"
   ]
  },
  {
   "cell_type": "code",
   "execution_count": 246,
   "metadata": {
    "collapsed": false
   },
   "outputs": [
    {
     "ename": "KeyError",
     "evalue": "'ActName'",
     "output_type": "error",
     "traceback": [
      "\u001b[1;31m---------------------------------------------------------------------------\u001b[0m",
      "\u001b[1;31mKeyError\u001b[0m                                  Traceback (most recent call last)",
      "\u001b[1;32m<ipython-input-246-3cbc710627fa>\u001b[0m in \u001b[0;36m<module>\u001b[1;34m()\u001b[0m\n\u001b[1;32m----> 1\u001b[1;33m \u001b[0mdf\u001b[0m\u001b[1;33m[\u001b[0m\u001b[1;34m\"ActName\"\u001b[0m\u001b[1;33m]\u001b[0m\u001b[1;33m\u001b[0m\u001b[0m\n\u001b[0m",
      "\u001b[1;32mC:\\Users\\rigneys\\AppData\\Local\\Continuum\\Anaconda3\\lib\\site-packages\\pandas\\core\\frame.py\u001b[0m in \u001b[0;36m__getitem__\u001b[1;34m(self, key)\u001b[0m\n\u001b[0;32m   1795\u001b[0m             \u001b[1;32mreturn\u001b[0m \u001b[0mself\u001b[0m\u001b[1;33m.\u001b[0m\u001b[0m_getitem_multilevel\u001b[0m\u001b[1;33m(\u001b[0m\u001b[0mkey\u001b[0m\u001b[1;33m)\u001b[0m\u001b[1;33m\u001b[0m\u001b[0m\n\u001b[0;32m   1796\u001b[0m         \u001b[1;32melse\u001b[0m\u001b[1;33m:\u001b[0m\u001b[1;33m\u001b[0m\u001b[0m\n\u001b[1;32m-> 1797\u001b[1;33m             \u001b[1;32mreturn\u001b[0m \u001b[0mself\u001b[0m\u001b[1;33m.\u001b[0m\u001b[0m_getitem_column\u001b[0m\u001b[1;33m(\u001b[0m\u001b[0mkey\u001b[0m\u001b[1;33m)\u001b[0m\u001b[1;33m\u001b[0m\u001b[0m\n\u001b[0m\u001b[0;32m   1798\u001b[0m \u001b[1;33m\u001b[0m\u001b[0m\n\u001b[0;32m   1799\u001b[0m     \u001b[1;32mdef\u001b[0m \u001b[0m_getitem_column\u001b[0m\u001b[1;33m(\u001b[0m\u001b[0mself\u001b[0m\u001b[1;33m,\u001b[0m \u001b[0mkey\u001b[0m\u001b[1;33m)\u001b[0m\u001b[1;33m:\u001b[0m\u001b[1;33m\u001b[0m\u001b[0m\n",
      "\u001b[1;32mC:\\Users\\rigneys\\AppData\\Local\\Continuum\\Anaconda3\\lib\\site-packages\\pandas\\core\\frame.py\u001b[0m in \u001b[0;36m_getitem_column\u001b[1;34m(self, key)\u001b[0m\n\u001b[0;32m   1802\u001b[0m         \u001b[1;31m# get column\u001b[0m\u001b[1;33m\u001b[0m\u001b[1;33m\u001b[0m\u001b[0m\n\u001b[0;32m   1803\u001b[0m         \u001b[1;32mif\u001b[0m \u001b[0mself\u001b[0m\u001b[1;33m.\u001b[0m\u001b[0mcolumns\u001b[0m\u001b[1;33m.\u001b[0m\u001b[0mis_unique\u001b[0m\u001b[1;33m:\u001b[0m\u001b[1;33m\u001b[0m\u001b[0m\n\u001b[1;32m-> 1804\u001b[1;33m             \u001b[1;32mreturn\u001b[0m \u001b[0mself\u001b[0m\u001b[1;33m.\u001b[0m\u001b[0m_get_item_cache\u001b[0m\u001b[1;33m(\u001b[0m\u001b[0mkey\u001b[0m\u001b[1;33m)\u001b[0m\u001b[1;33m\u001b[0m\u001b[0m\n\u001b[0m\u001b[0;32m   1805\u001b[0m \u001b[1;33m\u001b[0m\u001b[0m\n\u001b[0;32m   1806\u001b[0m         \u001b[1;31m# duplicate columns & possible reduce dimensionaility\u001b[0m\u001b[1;33m\u001b[0m\u001b[1;33m\u001b[0m\u001b[0m\n",
      "\u001b[1;32mC:\\Users\\rigneys\\AppData\\Local\\Continuum\\Anaconda3\\lib\\site-packages\\pandas\\core\\generic.py\u001b[0m in \u001b[0;36m_get_item_cache\u001b[1;34m(self, item)\u001b[0m\n\u001b[0;32m   1082\u001b[0m         \u001b[0mres\u001b[0m \u001b[1;33m=\u001b[0m \u001b[0mcache\u001b[0m\u001b[1;33m.\u001b[0m\u001b[0mget\u001b[0m\u001b[1;33m(\u001b[0m\u001b[0mitem\u001b[0m\u001b[1;33m)\u001b[0m\u001b[1;33m\u001b[0m\u001b[0m\n\u001b[0;32m   1083\u001b[0m         \u001b[1;32mif\u001b[0m \u001b[0mres\u001b[0m \u001b[1;32mis\u001b[0m \u001b[1;32mNone\u001b[0m\u001b[1;33m:\u001b[0m\u001b[1;33m\u001b[0m\u001b[0m\n\u001b[1;32m-> 1084\u001b[1;33m             \u001b[0mvalues\u001b[0m \u001b[1;33m=\u001b[0m \u001b[0mself\u001b[0m\u001b[1;33m.\u001b[0m\u001b[0m_data\u001b[0m\u001b[1;33m.\u001b[0m\u001b[0mget\u001b[0m\u001b[1;33m(\u001b[0m\u001b[0mitem\u001b[0m\u001b[1;33m)\u001b[0m\u001b[1;33m\u001b[0m\u001b[0m\n\u001b[0m\u001b[0;32m   1085\u001b[0m             \u001b[0mres\u001b[0m \u001b[1;33m=\u001b[0m \u001b[0mself\u001b[0m\u001b[1;33m.\u001b[0m\u001b[0m_box_item_values\u001b[0m\u001b[1;33m(\u001b[0m\u001b[0mitem\u001b[0m\u001b[1;33m,\u001b[0m \u001b[0mvalues\u001b[0m\u001b[1;33m)\u001b[0m\u001b[1;33m\u001b[0m\u001b[0m\n\u001b[0;32m   1086\u001b[0m             \u001b[0mcache\u001b[0m\u001b[1;33m[\u001b[0m\u001b[0mitem\u001b[0m\u001b[1;33m]\u001b[0m \u001b[1;33m=\u001b[0m \u001b[0mres\u001b[0m\u001b[1;33m\u001b[0m\u001b[0m\n",
      "\u001b[1;32mC:\\Users\\rigneys\\AppData\\Local\\Continuum\\Anaconda3\\lib\\site-packages\\pandas\\core\\internals.py\u001b[0m in \u001b[0;36mget\u001b[1;34m(self, item, fastpath)\u001b[0m\n\u001b[0;32m   2849\u001b[0m \u001b[1;33m\u001b[0m\u001b[0m\n\u001b[0;32m   2850\u001b[0m             \u001b[1;32mif\u001b[0m \u001b[1;32mnot\u001b[0m \u001b[0misnull\u001b[0m\u001b[1;33m(\u001b[0m\u001b[0mitem\u001b[0m\u001b[1;33m)\u001b[0m\u001b[1;33m:\u001b[0m\u001b[1;33m\u001b[0m\u001b[0m\n\u001b[1;32m-> 2851\u001b[1;33m                 \u001b[0mloc\u001b[0m \u001b[1;33m=\u001b[0m \u001b[0mself\u001b[0m\u001b[1;33m.\u001b[0m\u001b[0mitems\u001b[0m\u001b[1;33m.\u001b[0m\u001b[0mget_loc\u001b[0m\u001b[1;33m(\u001b[0m\u001b[0mitem\u001b[0m\u001b[1;33m)\u001b[0m\u001b[1;33m\u001b[0m\u001b[0m\n\u001b[0m\u001b[0;32m   2852\u001b[0m             \u001b[1;32melse\u001b[0m\u001b[1;33m:\u001b[0m\u001b[1;33m\u001b[0m\u001b[0m\n\u001b[0;32m   2853\u001b[0m                 \u001b[0mindexer\u001b[0m \u001b[1;33m=\u001b[0m \u001b[0mnp\u001b[0m\u001b[1;33m.\u001b[0m\u001b[0marange\u001b[0m\u001b[1;33m(\u001b[0m\u001b[0mlen\u001b[0m\u001b[1;33m(\u001b[0m\u001b[0mself\u001b[0m\u001b[1;33m.\u001b[0m\u001b[0mitems\u001b[0m\u001b[1;33m)\u001b[0m\u001b[1;33m)\u001b[0m\u001b[1;33m[\u001b[0m\u001b[0misnull\u001b[0m\u001b[1;33m(\u001b[0m\u001b[0mself\u001b[0m\u001b[1;33m.\u001b[0m\u001b[0mitems\u001b[0m\u001b[1;33m)\u001b[0m\u001b[1;33m]\u001b[0m\u001b[1;33m\u001b[0m\u001b[0m\n",
      "\u001b[1;32mC:\\Users\\rigneys\\AppData\\Local\\Continuum\\Anaconda3\\lib\\site-packages\\pandas\\core\\index.py\u001b[0m in \u001b[0;36mget_loc\u001b[1;34m(self, key, method)\u001b[0m\n\u001b[0;32m   1570\u001b[0m         \"\"\"\n\u001b[0;32m   1571\u001b[0m         \u001b[1;32mif\u001b[0m \u001b[0mmethod\u001b[0m \u001b[1;32mis\u001b[0m \u001b[1;32mNone\u001b[0m\u001b[1;33m:\u001b[0m\u001b[1;33m\u001b[0m\u001b[0m\n\u001b[1;32m-> 1572\u001b[1;33m             \u001b[1;32mreturn\u001b[0m \u001b[0mself\u001b[0m\u001b[1;33m.\u001b[0m\u001b[0m_engine\u001b[0m\u001b[1;33m.\u001b[0m\u001b[0mget_loc\u001b[0m\u001b[1;33m(\u001b[0m\u001b[0m_values_from_object\u001b[0m\u001b[1;33m(\u001b[0m\u001b[0mkey\u001b[0m\u001b[1;33m)\u001b[0m\u001b[1;33m)\u001b[0m\u001b[1;33m\u001b[0m\u001b[0m\n\u001b[0m\u001b[0;32m   1573\u001b[0m \u001b[1;33m\u001b[0m\u001b[0m\n\u001b[0;32m   1574\u001b[0m         \u001b[0mindexer\u001b[0m \u001b[1;33m=\u001b[0m \u001b[0mself\u001b[0m\u001b[1;33m.\u001b[0m\u001b[0mget_indexer\u001b[0m\u001b[1;33m(\u001b[0m\u001b[1;33m[\u001b[0m\u001b[0mkey\u001b[0m\u001b[1;33m]\u001b[0m\u001b[1;33m,\u001b[0m \u001b[0mmethod\u001b[0m\u001b[1;33m=\u001b[0m\u001b[0mmethod\u001b[0m\u001b[1;33m)\u001b[0m\u001b[1;33m\u001b[0m\u001b[0m\n",
      "\u001b[1;32mpandas\\index.pyx\u001b[0m in \u001b[0;36mpandas.index.IndexEngine.get_loc (pandas\\index.c:3824)\u001b[1;34m()\u001b[0m\n",
      "\u001b[1;32mpandas\\index.pyx\u001b[0m in \u001b[0;36mpandas.index.IndexEngine.get_loc (pandas\\index.c:3704)\u001b[1;34m()\u001b[0m\n",
      "\u001b[1;32mpandas\\hashtable.pyx\u001b[0m in \u001b[0;36mpandas.hashtable.PyObjectHashTable.get_item (pandas\\hashtable.c:12280)\u001b[1;34m()\u001b[0m\n",
      "\u001b[1;32mpandas\\hashtable.pyx\u001b[0m in \u001b[0;36mpandas.hashtable.PyObjectHashTable.get_item (pandas\\hashtable.c:12231)\u001b[1;34m()\u001b[0m\n",
      "\u001b[1;31mKeyError\u001b[0m: 'ActName'"
     ]
    }
   ],
   "source": [
    "df[\"ActName\"]"
   ]
  }
 ],
 "metadata": {
  "kernelspec": {
   "display_name": "Python 3",
   "language": "python",
   "name": "python3"
  },
  "language_info": {
   "codemirror_mode": {
    "name": "ipython",
    "version": 3
   },
   "file_extension": ".py",
   "mimetype": "text/x-python",
   "name": "python",
   "nbconvert_exporter": "python",
   "pygments_lexer": "ipython3",
   "version": "3.4.3"
  }
 },
 "nbformat": 4,
 "nbformat_minor": 0
}
